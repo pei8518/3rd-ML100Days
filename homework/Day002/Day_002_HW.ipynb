{
 "cells": [
  {
   "cell_type": "markdown",
   "metadata": {},
   "source": [
    "## [作業目標]\n",
    "了解機器學習適合應用的領域與範疇。"
   ]
  },
  {
   "cell_type": "markdown",
   "metadata": {},
   "source": [
    "## [作業重點]\n",
    "透過瞭解機器學習的運作方式，找出非常適用機器學習應用的領域及其原因"
   ]
  },
  {
   "cell_type": "markdown",
   "metadata": {},
   "source": [
    "## 作業\n",
    "請找出一個你認為機器學習可以發光發熱的領域並闡述原因? "
   ]
  },
  {
   "cell_type": "code",
   "execution_count": null,
   "metadata": {},
   "outputs": [],
   "source": [
    "'''\n",
    "Reply:\n",
    "機器學習可以應用在各式各樣的領域中，只要運用得當，均可獲得相對應的成果。\n",
    "我個人目前會選擇醫療產業，目前許多領域都在發展物聯網，醫療業也不例外，國內外大廠也爭相投入發展醫療大數據的商機；\n",
    "再加上台灣有健全的健保制度，自1995年開辦以來，已累積25年的健保資料，龐大的資料搭配機器學習、深度學習等方法學，\n",
    "應用於如醫療影像判讀，尋找新藥組合，或根據患者本身狀況提供更貼近患者個人的照護品質等等。\n",
    "\n",
    "'''"
   ]
  }
 ],
 "metadata": {
  "kernelspec": {
   "display_name": "Python 3",
   "language": "python",
   "name": "python3"
  },
  "language_info": {
   "codemirror_mode": {
    "name": "ipython",
    "version": 3
   },
   "file_extension": ".py",
   "mimetype": "text/x-python",
   "name": "python",
   "nbconvert_exporter": "python",
   "pygments_lexer": "ipython3",
   "version": "3.6.8"
  }
 },
 "nbformat": 4,
 "nbformat_minor": 2
}
