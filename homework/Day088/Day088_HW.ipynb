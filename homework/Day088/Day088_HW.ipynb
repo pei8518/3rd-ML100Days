{
 "cells": [
  {
   "cell_type": "markdown",
   "metadata": {},
   "source": [
    "## Work\n",
    "1. 請嘗試寫一個 callback 用來記錄各類別在訓練過程中，對驗證集的 True Positive 與 True Negative"
   ]
  },
  {
   "cell_type": "code",
   "execution_count": 10,
   "metadata": {},
   "outputs": [],
   "source": [
    "import os\n",
    "import keras\n",
    "import numpy as np\n",
    "# Disable GPU\n",
    "os.environ[\"CUDA_VISIBLE_DEVICES\"] = \"\""
   ]
  },
  {
   "cell_type": "code",
   "execution_count": 2,
   "metadata": {},
   "outputs": [],
   "source": [
    "train, test = keras.datasets.cifar10.load_data()"
   ]
  },
  {
   "cell_type": "code",
   "execution_count": 3,
   "metadata": {},
   "outputs": [],
   "source": [
    "## 資料前處理\n",
    "def preproc_x(x, flatten=True):\n",
    "    x = x / 255.\n",
    "    if flatten:\n",
    "        x = x.reshape((len(x), -1))\n",
    "    return x\n",
    "\n",
    "def preproc_y(y, num_classes=10):\n",
    "    if y.shape[-1] == 1:\n",
    "        y = keras.utils.to_categorical(y, num_classes)\n",
    "    return y    "
   ]
  },
  {
   "cell_type": "code",
   "execution_count": 4,
   "metadata": {},
   "outputs": [],
   "source": [
    "x_train, y_train = train\n",
    "x_test, y_test = test\n",
    "\n",
    "# Preproc the inputs\n",
    "x_train = preproc_x(x_train)\n",
    "x_test = preproc_x(x_test)\n",
    "\n",
    "# Preprc the outputs\n",
    "y_train = preproc_y(y_train)\n",
    "y_test = preproc_y(y_test)"
   ]
  },
  {
   "cell_type": "code",
   "execution_count": 5,
   "metadata": {},
   "outputs": [],
   "source": [
    "from keras.layers import BatchNormalization\n",
    "\"\"\"\n",
    "建立神經網路，並加入 BN layer\n",
    "\"\"\"\n",
    "def build_mlp(input_shape, output_units=10, num_neurons=[256, 256, 256]):\n",
    "    input_layer = keras.layers.Input(input_shape)\n",
    "    \n",
    "    for i, n_units in enumerate(num_neurons):\n",
    "        if i == 0:\n",
    "            x = keras.layers.Dense(units=n_units, \n",
    "                                   activation=\"relu\", \n",
    "                                   name=\"hidden_layer\"+str(i+1))(input_layer)\n",
    "            x = BatchNormalization()(x)\n",
    "        else:\n",
    "            x = keras.layers.Dense(units=n_units, \n",
    "                                   activation=\"relu\", \n",
    "                                   name=\"hidden_layer\"+str(i+1))(x)\n",
    "            x = BatchNormalization()(x)\n",
    "    \n",
    "    out = keras.layers.Dense(units=output_units, activation=\"softmax\", name=\"output\")(x)\n",
    "    \n",
    "    model = keras.models.Model(inputs=[input_layer], outputs=[out])\n",
    "    \n",
    "    return model"
   ]
  },
  {
   "cell_type": "code",
   "execution_count": 6,
   "metadata": {},
   "outputs": [],
   "source": [
    "## 超參數設定\n",
    "LEARNING_RATE = 1e-3\n",
    "EPOCHS = 25\n",
    "BATCH_SIZE = 1024\n",
    "MOMENTUM = 0.95"
   ]
  },
  {
   "cell_type": "code",
   "execution_count": 7,
   "metadata": {},
   "outputs": [],
   "source": [
    "# 載入 Callbacks\n",
    "from keras.callbacks import Callback\n",
    "\n",
    "# Record_fp_tp\n",
    "class Record_tp_tn(Callback):\n",
    "    \"\"\"Code Here\n",
    "    撰寫一個紀錄 true positive 與 true negative 數量的 callbacks    \n",
    "    \"\"\"\n",
    "    def on_train_begin(self, epoch, logs = {}):\n",
    "        logs = logs or {}\n",
    "        record_items = [\"val_auc\", \"val_f1sc\", \"val_fp\", \"val_fn\", \"val_tp\", \"val_tn\"]\n",
    "        for i in record_items:\n",
    "            if i not in self.params['metrics']:\n",
    "                self.params['metrics'].append(i)\n",
    "    \n",
    "    def on_epoch_end(self, epoch, logs = {}, thres=0.5):\n",
    "        logs = logs or {}\n",
    "        y_true = self.validation_data[1].argmax(axis = 1)\n",
    "        y_pred = self.model.predict(self.validation_data[0])\n",
    "        y_pred = (y_pred[:, 1] >= thres) * 1\n",
    "        \n",
    "        #預測為1,實際也為1\n",
    "        logs[\"val_tp\"] = len(y_true[np.logical_and(( y_true == 1), (y_pred == 1))])\n",
    "        #預測為0,實際也為0\n",
    "        logs[\"val_fn\"] = len(y_true[np.logical_and(( y_true == 0), (y_pred == 1))])\n",
    "    \n",
    "rec_tptn = Record_tp_tn()"
   ]
  },
  {
   "cell_type": "code",
   "execution_count": 12,
   "metadata": {
    "scrolled": false
   },
   "outputs": [
    {
     "name": "stdout",
     "output_type": "stream",
     "text": [
      "_________________________________________________________________\n",
      "Layer (type)                 Output Shape              Param #   \n",
      "=================================================================\n",
      "input_4 (InputLayer)         (None, 3072)              0         \n",
      "_________________________________________________________________\n",
      "hidden_layer1 (Dense)        (None, 256)               786688    \n",
      "_________________________________________________________________\n",
      "batch_normalization_10 (Batc (None, 256)               1024      \n",
      "_________________________________________________________________\n",
      "hidden_layer2 (Dense)        (None, 256)               65792     \n",
      "_________________________________________________________________\n",
      "batch_normalization_11 (Batc (None, 256)               1024      \n",
      "_________________________________________________________________\n",
      "hidden_layer3 (Dense)        (None, 256)               65792     \n",
      "_________________________________________________________________\n",
      "batch_normalization_12 (Batc (None, 256)               1024      \n",
      "_________________________________________________________________\n",
      "output (Dense)               (None, 10)                2570      \n",
      "=================================================================\n",
      "Total params: 923,914\n",
      "Trainable params: 922,378\n",
      "Non-trainable params: 1,536\n",
      "_________________________________________________________________\n",
      "Train on 50000 samples, validate on 10000 samples\n",
      "Epoch 1/25\n",
      "50000/50000 [==============================] - 4s 80us/step - loss: 2.2380 - acc: 0.2674 - val_loss: 2.1384 - val_acc: 0.3012\n",
      "Epoch 2/25\n",
      "50000/50000 [==============================] - 3s 65us/step - loss: 1.7558 - acc: 0.3892 - val_loss: 1.8111 - val_acc: 0.3695\n",
      "Epoch 3/25\n",
      "50000/50000 [==============================] - 3s 66us/step - loss: 1.6270 - acc: 0.4309 - val_loss: 1.6805 - val_acc: 0.4103\n",
      "Epoch 4/25\n",
      "50000/50000 [==============================] - 3s 66us/step - loss: 1.5518 - acc: 0.4565 - val_loss: 1.6437 - val_acc: 0.4253\n",
      "Epoch 5/25\n",
      "50000/50000 [==============================] - 3s 65us/step - loss: 1.4958 - acc: 0.4791 - val_loss: 1.5869 - val_acc: 0.4405\n",
      "Epoch 6/25\n",
      "50000/50000 [==============================] - 3s 65us/step - loss: 1.4532 - acc: 0.4929 - val_loss: 1.5687 - val_acc: 0.4506\n",
      "Epoch 7/25\n",
      "50000/50000 [==============================] - 3s 65us/step - loss: 1.4155 - acc: 0.5048 - val_loss: 1.5475 - val_acc: 0.4609\n",
      "Epoch 8/25\n",
      "50000/50000 [==============================] - 3s 64us/step - loss: 1.3826 - acc: 0.5201 - val_loss: 1.5276 - val_acc: 0.4619\n",
      "Epoch 9/25\n",
      "50000/50000 [==============================] - 3s 65us/step - loss: 1.3520 - acc: 0.5293 - val_loss: 1.5104 - val_acc: 0.4706\n",
      "Epoch 10/25\n",
      "50000/50000 [==============================] - 3s 65us/step - loss: 1.3246 - acc: 0.5400 - val_loss: 1.4944 - val_acc: 0.4778\n",
      "Epoch 11/25\n",
      "50000/50000 [==============================] - 3s 65us/step - loss: 1.3000 - acc: 0.5477 - val_loss: 1.4821 - val_acc: 0.4808\n",
      "Epoch 12/25\n",
      "50000/50000 [==============================] - 3s 65us/step - loss: 1.2746 - acc: 0.5568 - val_loss: 1.4723 - val_acc: 0.4825\n",
      "Epoch 13/25\n",
      "50000/50000 [==============================] - 3s 67us/step - loss: 1.2525 - acc: 0.5648 - val_loss: 1.4625 - val_acc: 0.4870\n",
      "Epoch 14/25\n",
      "50000/50000 [==============================] - 3s 66us/step - loss: 1.2299 - acc: 0.5740 - val_loss: 1.4540 - val_acc: 0.4913\n",
      "Epoch 15/25\n",
      "50000/50000 [==============================] - 3s 68us/step - loss: 1.2098 - acc: 0.5822 - val_loss: 1.4570 - val_acc: 0.4886\n",
      "Epoch 16/25\n",
      "50000/50000 [==============================] - 3s 66us/step - loss: 1.1896 - acc: 0.5877 - val_loss: 1.4711 - val_acc: 0.4891\n",
      "Epoch 17/25\n",
      "50000/50000 [==============================] - 3s 66us/step - loss: 1.1715 - acc: 0.5954 - val_loss: 1.4460 - val_acc: 0.4946\n",
      "Epoch 18/25\n",
      "50000/50000 [==============================] - 3s 65us/step - loss: 1.1501 - acc: 0.6050 - val_loss: 1.4484 - val_acc: 0.4952\n",
      "Epoch 19/25\n",
      "50000/50000 [==============================] - 3s 65us/step - loss: 1.1309 - acc: 0.6110 - val_loss: 1.4384 - val_acc: 0.4970\n",
      "Epoch 20/25\n",
      "50000/50000 [==============================] - 3s 65us/step - loss: 1.1140 - acc: 0.6187 - val_loss: 1.4623 - val_acc: 0.4944\n",
      "Epoch 21/25\n",
      "50000/50000 [==============================] - 3s 65us/step - loss: 1.0988 - acc: 0.6228 - val_loss: 1.4679 - val_acc: 0.4892\n",
      "Epoch 22/25\n",
      "50000/50000 [==============================] - 3s 65us/step - loss: 1.0797 - acc: 0.6311 - val_loss: 1.4566 - val_acc: 0.4938\n",
      "Epoch 23/25\n",
      "50000/50000 [==============================] - 3s 65us/step - loss: 1.0645 - acc: 0.6374 - val_loss: 1.4362 - val_acc: 0.5011\n",
      "Epoch 24/25\n",
      "50000/50000 [==============================] - 3s 66us/step - loss: 1.0460 - acc: 0.6420 - val_loss: 1.4499 - val_acc: 0.4973\n",
      "Epoch 25/25\n",
      "50000/50000 [==============================] - 3s 67us/step - loss: 1.0294 - acc: 0.6502 - val_loss: 1.4395 - val_acc: 0.4991\n"
     ]
    }
   ],
   "source": [
    "model = build_mlp(input_shape=x_train.shape[1:])\n",
    "model.summary()\n",
    "optimizer = keras.optimizers.SGD(lr=LEARNING_RATE, nesterov=True, momentum=MOMENTUM)\n",
    "model.compile(loss=\"categorical_crossentropy\", metrics=[\"accuracy\"], optimizer=optimizer)\n",
    "\n",
    "\"\"\"Code Here\n",
    "將 callbacks 放入模型訓練流程中\n",
    "\"\"\"\n",
    "model.fit(x_train, y_train, \n",
    "          epochs=EPOCHS, \n",
    "          batch_size=BATCH_SIZE, \n",
    "          validation_data=(x_test, y_test), \n",
    "          shuffle=True,\n",
    "          callbacks=[rec_tptn]\n",
    "         )\n",
    "\n",
    "# Collect results\n",
    "train_loss = model.history.history[\"loss\"]\n",
    "valid_loss = model.history.history[\"val_loss\"]\n",
    "train_acc = model.history.history[\"acc\"]\n",
    "valid_acc = model.history.history[\"val_acc\"]\n",
    "\n",
    "\"\"\"Code Here\n",
    "將 tp/tn 從訓練完的模型中取出\n",
    "\"\"\"\n",
    "valid_tp = model.history.history['val_tp']\n",
    "valid_tn = model.history.history['val_fn']"
   ]
  },
  {
   "cell_type": "code",
   "execution_count": 13,
   "metadata": {},
   "outputs": [
    {
     "data": {
      "image/png": "[encoded data removed]",
      "text/plain": [
       "<Figure size 432x288 with 1 Axes>"
      ]
     },
     "metadata": {
      "needs_background": "light"
     },
     "output_type": "display_data"
    },
    {
     "data": {
      "image/png": "[encoded data removed]",
      "text/plain": [
       "<Figure size 432x288 with 1 Axes>"
      ]
     },
     "metadata": {
      "needs_background": "light"
     },
     "output_type": "display_data"
    },
    {
     "data": {
      "image/png": "[encoded data removed]",
      "text/plain": [
       "<Figure size 432x288 with 1 Axes>"
      ]
     },
     "metadata": {
      "needs_background": "light"
     },
     "output_type": "display_data"
    }
   ],
   "source": [
    "import matplotlib.pyplot as plt\n",
    "%matplotlib inline\n",
    "\n",
    "plt.plot(range(len(train_loss)), train_loss, label=\"train loss\")\n",
    "plt.plot(range(len(valid_loss)), valid_loss, label=\"valid loss\")\n",
    "plt.legend()\n",
    "plt.title(\"Loss\")\n",
    "plt.show()\n",
    "\n",
    "plt.plot(range(len(train_acc)), train_acc, label=\"train accuracy\")\n",
    "plt.plot(range(len(valid_acc)), valid_acc, label=\"valid accuracy\")\n",
    "plt.legend()\n",
    "plt.title(\"Accuracy\")\n",
    "plt.show()\n",
    "\n",
    "plt.plot(range(len(valid_tp)), valid_tp, label=\"valid tp\", color=\"navy\")\n",
    "plt.plot(range(len(valid_tn)), valid_tn, label=\"valid tn\", color=\"red\")\n",
    "plt.legend()\n",
    "plt.title(\"True positives and True Negatives\")\n",
    "plt.show()\n"
   ]
  },
  {
   "cell_type": "code",
   "execution_count": null,
   "metadata": {},
   "outputs": [],
   "source": []
  }
 ],
 "metadata": {
  "kernelspec": {
   "display_name": "Python 3",
   "language": "python",
   "name": "python3"
  },
  "language_info": {
   "codemirror_mode": {
    "name": "ipython",
    "version": 3
   },
   "file_extension": ".py",
   "mimetype": "text/x-python",
   "name": "python",
   "nbconvert_exporter": "python",
   "pygments_lexer": "ipython3",
   "version": "3.6.8"
  }
 },
 "nbformat": 4,
 "nbformat_minor": 2
}
