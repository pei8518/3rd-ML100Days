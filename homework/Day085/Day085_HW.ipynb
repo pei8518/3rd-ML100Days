{
 "cells": [
  {
   "cell_type": "markdown",
   "metadata": {},
   "source": [
    "## Work\n",
    "1. 試改變 monitor \"Validation Accuracy\" 並比較結果\n",
    "2. 調整 earlystop 的等待次數至 10, 25 並比較結果"
   ]
  },
  {
   "cell_type": "markdown",
   "metadata": {},
   "source": [
    "###### Note:  \n",
    "* 使用 EarlyStopping：繼續訓練會導致測試集準確率下降。  \n",
    "* 過度擬合  \n",
    "* 學習率過⼤導致不收斂  \n",
    "* 使用 Regulizers 時，Loss 減少未必是準確率上升，可能是 weights 變少⽽而已。  \n",
    "* EarlyStopping 可以監控的項⽬目acc, val_acc, loss, val_loss, ...etc 等 loss 與 metrics有時候要監控的項⽬目不是越小越好 (“min”)，這時候要可以手動將 mode 設成 “max”\n"
   ]
  },
  {
   "cell_type": "code",
   "execution_count": 10,
   "metadata": {},
   "outputs": [],
   "source": [
    "import os\n",
    "import keras\n",
    "from keras.layers import BatchNormalization\n",
    "from keras.callbacks import EarlyStopping\n",
    "import matplotlib.pyplot as plt\n",
    "%matplotlib inline\n",
    "\n",
    "# Disable GPU\n",
    "os.environ[\"CUDA_VISIBLE_DEVICES\"] = \"\""
   ]
  },
  {
   "cell_type": "code",
   "execution_count": 3,
   "metadata": {},
   "outputs": [],
   "source": [
    "train, test = keras.datasets.cifar10.load_data()"
   ]
  },
  {
   "cell_type": "code",
   "execution_count": 2,
   "metadata": {},
   "outputs": [],
   "source": [
    "## 資料前處理\n",
    "def preproc_x(x, flatten=True):\n",
    "    x = x / 255.\n",
    "    if flatten:\n",
    "        x = x.reshape((len(x), -1))\n",
    "    return x\n",
    "\n",
    "def preproc_y(y, num_classes=10):\n",
    "    if y.shape[-1] == 1:\n",
    "        y = keras.utils.to_categorical(y, num_classes)\n",
    "    return y    "
   ]
  },
  {
   "cell_type": "code",
   "execution_count": 4,
   "metadata": {},
   "outputs": [],
   "source": [
    "x_train, y_train = train\n",
    "x_test, y_test = test\n",
    "\n",
    "# Preproc the inputs\n",
    "x_train = preproc_x(x_train)\n",
    "x_test = preproc_x(x_test)\n",
    "\n",
    "# Preprc the outputs\n",
    "y_train = preproc_y(y_train)\n",
    "y_test = preproc_y(y_test)"
   ]
  },
  {
   "cell_type": "code",
   "execution_count": 5,
   "metadata": {},
   "outputs": [],
   "source": [
    "#建立神經網絡，並加入BN layer(批次調整)\n",
    "\n",
    "def build_mlp(input_shape, output_units=10, num_neurons=[512, 256, 128]):\n",
    "    input_layer = keras.layers.Input(input_shape)\n",
    "    \n",
    "    for i, n_units in enumerate(num_neurons):\n",
    "        if i == 0:\n",
    "            x = keras.layers.Dense(units=n_units, \n",
    "                                   activation=\"relu\", \n",
    "                                   name=\"hidden_layer\"+str(i+1))(input_layer)\n",
    "            x = BatchNormalization()(x)\n",
    "        else:\n",
    "            x = keras.layers.Dense(units=n_units, \n",
    "                                   activation=\"relu\", \n",
    "                                   name=\"hidden_layer\"+str(i+1))(x)\n",
    "            x = BatchNormalization()(x)\n",
    "    \n",
    "    out = keras.layers.Dense(units=output_units, activation=\"softmax\", name=\"output\")(x)\n",
    "    \n",
    "    model = keras.models.Model(inputs=[input_layer], outputs=[out])\n",
    "    return model"
   ]
  },
  {
   "cell_type": "code",
   "execution_count": 18,
   "metadata": {},
   "outputs": [],
   "source": [
    "\"\"\"Code Here\n",
    "設定超參數\n",
    "\"\"\"\n",
    "LEARNING_RATE = 1e-3\n",
    "EPOCHS = 50\n",
    "BATCH_SIZE = 1024\n",
    "MOMENTUM = 0.95"
   ]
  },
  {
   "cell_type": "code",
   "execution_count": 11,
   "metadata": {
    "scrolled": true
   },
   "outputs": [
    {
     "name": "stdout",
     "output_type": "stream",
     "text": [
      "_________________________________________________________________\n",
      "Layer (type)                 Output Shape              Param #   \n",
      "=================================================================\n",
      "input_3 (InputLayer)         (None, 3072)              0         \n",
      "_________________________________________________________________\n",
      "hidden_layer1 (Dense)        (None, 512)               1573376   \n",
      "_________________________________________________________________\n",
      "batch_normalization_1 (Batch (None, 512)               2048      \n",
      "_________________________________________________________________\n",
      "hidden_layer2 (Dense)        (None, 256)               131328    \n",
      "_________________________________________________________________\n",
      "batch_normalization_2 (Batch (None, 256)               1024      \n",
      "_________________________________________________________________\n",
      "hidden_layer3 (Dense)        (None, 128)               32896     \n",
      "_________________________________________________________________\n",
      "batch_normalization_3 (Batch (None, 128)               512       \n",
      "_________________________________________________________________\n",
      "output (Dense)               (None, 10)                1290      \n",
      "=================================================================\n",
      "Total params: 1,742,474\n",
      "Trainable params: 1,740,682\n",
      "Non-trainable params: 1,792\n",
      "_________________________________________________________________\n",
      "Train on 50000 samples, validate on 10000 samples\n",
      "Epoch 1/50\n",
      "50000/50000 [==============================] - 5s 97us/step - loss: 2.1904 - acc: 0.2759 - val_loss: 2.1028 - val_acc: 0.3090\n",
      "Epoch 2/50\n",
      "50000/50000 [==============================] - 4s 82us/step - loss: 1.7405 - acc: 0.3949 - val_loss: 1.7836 - val_acc: 0.3834\n",
      "Epoch 3/50\n",
      "50000/50000 [==============================] - 4s 82us/step - loss: 1.6163 - acc: 0.4346 - val_loss: 1.6816 - val_acc: 0.4101\n",
      "Epoch 4/50\n",
      "50000/50000 [==============================] - 4s 82us/step - loss: 1.5447 - acc: 0.4607 - val_loss: 1.6333 - val_acc: 0.4331\n",
      "Epoch 5/50\n",
      "50000/50000 [==============================] - 4s 82us/step - loss: 1.4879 - acc: 0.4812 - val_loss: 1.5982 - val_acc: 0.4480\n",
      "Epoch 6/50\n",
      "50000/50000 [==============================] - 4s 82us/step - loss: 1.4425 - acc: 0.4968 - val_loss: 1.5597 - val_acc: 0.4561\n",
      "Epoch 7/50\n",
      "50000/50000 [==============================] - 4s 84us/step - loss: 1.4006 - acc: 0.5121 - val_loss: 1.5308 - val_acc: 0.4633\n",
      "Epoch 8/50\n",
      "50000/50000 [==============================] - 4s 83us/step - loss: 1.3644 - acc: 0.5252 - val_loss: 1.5271 - val_acc: 0.4626\n",
      "Epoch 9/50\n",
      "50000/50000 [==============================] - 4s 83us/step - loss: 1.3323 - acc: 0.5383 - val_loss: 1.5235 - val_acc: 0.4609\n",
      "Epoch 10/50\n",
      "50000/50000 [==============================] - 4s 82us/step - loss: 1.3012 - acc: 0.5494 - val_loss: 1.4857 - val_acc: 0.4743\n",
      "Epoch 11/50\n",
      "50000/50000 [==============================] - 4s 82us/step - loss: 1.2718 - acc: 0.5605 - val_loss: 1.4716 - val_acc: 0.4842\n",
      "Epoch 12/50\n",
      "50000/50000 [==============================] - 4s 83us/step - loss: 1.2454 - acc: 0.5725 - val_loss: 1.4738 - val_acc: 0.4802\n",
      "Epoch 13/50\n",
      "50000/50000 [==============================] - 4s 83us/step - loss: 1.2194 - acc: 0.5798 - val_loss: 1.4702 - val_acc: 0.4834\n",
      "Epoch 14/50\n",
      "50000/50000 [==============================] - 4s 83us/step - loss: 1.1949 - acc: 0.5895 - val_loss: 1.4698 - val_acc: 0.4841\n",
      "Epoch 15/50\n",
      "50000/50000 [==============================] - 4s 83us/step - loss: 1.1696 - acc: 0.5979 - val_loss: 1.4586 - val_acc: 0.4877\n",
      "Epoch 16/50\n",
      "50000/50000 [==============================] - 4s 83us/step - loss: 1.1472 - acc: 0.6071 - val_loss: 1.4708 - val_acc: 0.4844\n",
      "Epoch 17/50\n",
      "50000/50000 [==============================] - 4s 83us/step - loss: 1.1237 - acc: 0.6154 - val_loss: 1.4570 - val_acc: 0.4873\n",
      "Epoch 18/50\n",
      "50000/50000 [==============================] - 4s 81us/step - loss: 1.1004 - acc: 0.6239 - val_loss: 1.4540 - val_acc: 0.4896\n",
      "Epoch 19/50\n",
      "50000/50000 [==============================] - 4s 80us/step - loss: 1.0747 - acc: 0.6340 - val_loss: 1.4423 - val_acc: 0.4949\n",
      "Epoch 20/50\n",
      "50000/50000 [==============================] - 4s 83us/step - loss: 1.0536 - acc: 0.6434 - val_loss: 1.4446 - val_acc: 0.4911\n",
      "Epoch 21/50\n",
      "50000/50000 [==============================] - 4s 88us/step - loss: 1.0326 - acc: 0.6509 - val_loss: 1.4546 - val_acc: 0.4937\n",
      "Epoch 22/50\n",
      "50000/50000 [==============================] - 4s 81us/step - loss: 1.0106 - acc: 0.6610 - val_loss: 1.4518 - val_acc: 0.5001\n",
      "Epoch 23/50\n",
      "50000/50000 [==============================] - 4s 82us/step - loss: 0.9899 - acc: 0.6672 - val_loss: 1.4438 - val_acc: 0.4989\n",
      "Epoch 24/50\n",
      "50000/50000 [==============================] - 4s 80us/step - loss: 0.9678 - acc: 0.6751 - val_loss: 1.4366 - val_acc: 0.5013\n",
      "Epoch 25/50\n",
      "50000/50000 [==============================] - 4s 81us/step - loss: 0.9458 - acc: 0.6839 - val_loss: 1.4562 - val_acc: 0.4883\n",
      "Epoch 26/50\n",
      "50000/50000 [==============================] - 4s 80us/step - loss: 0.9268 - acc: 0.6908 - val_loss: 1.4636 - val_acc: 0.4976\n",
      "Epoch 27/50\n",
      "50000/50000 [==============================] - 4s 81us/step - loss: 0.9037 - acc: 0.7002 - val_loss: 1.4566 - val_acc: 0.5015\n",
      "Epoch 28/50\n",
      "50000/50000 [==============================] - 4s 81us/step - loss: 0.8850 - acc: 0.7074 - val_loss: 1.4541 - val_acc: 0.4963\n",
      "Epoch 29/50\n",
      "50000/50000 [==============================] - 4s 84us/step - loss: 0.8632 - acc: 0.7154 - val_loss: 1.4655 - val_acc: 0.5022\n",
      "Epoch 30/50\n",
      "50000/50000 [==============================] - 4s 82us/step - loss: 0.8440 - acc: 0.7239 - val_loss: 1.4644 - val_acc: 0.5030\n",
      "Epoch 31/50\n",
      "50000/50000 [==============================] - 4s 83us/step - loss: 0.8238 - acc: 0.7305 - val_loss: 1.4651 - val_acc: 0.5023\n",
      "Epoch 32/50\n",
      "50000/50000 [==============================] - 4s 83us/step - loss: 0.8036 - acc: 0.7380 - val_loss: 1.4817 - val_acc: 0.5056\n",
      "Epoch 33/50\n",
      "50000/50000 [==============================] - 4s 82us/step - loss: 0.7832 - acc: 0.7472 - val_loss: 1.4891 - val_acc: 0.4963\n",
      "Epoch 34/50\n",
      "50000/50000 [==============================] - 4s 83us/step - loss: 0.7634 - acc: 0.7550 - val_loss: 1.5004 - val_acc: 0.4992\n",
      "Epoch 35/50\n",
      "50000/50000 [==============================] - 4s 82us/step - loss: 0.7446 - acc: 0.7616 - val_loss: 1.5143 - val_acc: 0.4990\n",
      "Epoch 36/50\n",
      "50000/50000 [==============================] - 4s 82us/step - loss: 0.7252 - acc: 0.7677 - val_loss: 1.5109 - val_acc: 0.5014\n",
      "Epoch 37/50\n",
      "50000/50000 [==============================] - 4s 81us/step - loss: 0.7051 - acc: 0.7771 - val_loss: 1.5425 - val_acc: 0.4954\n",
      "Epoch 38/50\n",
      "50000/50000 [==============================] - 4s 81us/step - loss: 0.6873 - acc: 0.7834 - val_loss: 1.5328 - val_acc: 0.4977\n",
      "Epoch 39/50\n",
      "50000/50000 [==============================] - 4s 83us/step - loss: 0.6683 - acc: 0.7918 - val_loss: 1.5356 - val_acc: 0.5055\n",
      "Epoch 40/50\n",
      "50000/50000 [==============================] - 4s 82us/step - loss: 0.6484 - acc: 0.8004 - val_loss: 1.5384 - val_acc: 0.5023\n",
      "Epoch 41/50\n",
      "50000/50000 [==============================] - 4s 83us/step - loss: 0.6302 - acc: 0.8079 - val_loss: 1.5492 - val_acc: 0.5024\n",
      "Epoch 42/50\n",
      "50000/50000 [==============================] - 4s 81us/step - loss: 0.6119 - acc: 0.8156 - val_loss: 1.5725 - val_acc: 0.4927\n",
      "Epoch 00042: early stopping\n"
     ]
    }
   ],
   "source": [
    "# 載入 Callbacks\n",
    "\"\"\"Code Here\n",
    "設定 callbacks: Earlystop\n",
    "將 monitor 設定為監控 validation loss\n",
    "\"\"\"\n",
    "#earlystop 的等待次數至 10, 25 並比較結果\n",
    "earlystop = EarlyStopping(monitor=\"val_acc\", \n",
    "                          patience=10, \n",
    "                          verbose=1\n",
    "                          )\n",
    "results = {}\n",
    "\"\"\"Code Here\n",
    "撰寫你的訓練流程並將結果用 dictionary 紀錄\n",
    "\"\"\"\n",
    "model = build_mlp(input_shape=x_train.shape[1:])\n",
    "model.summary()\n",
    "optimizer = keras.optimizers.SGD(lr=LEARNING_RATE, nesterov=True, momentum=MOMENTUM)\n",
    "model.compile(loss=\"categorical_crossentropy\", metrics=[\"accuracy\"], optimizer=optimizer)\n",
    "\n",
    "model.fit(x_train, y_train, \n",
    "          epochs=EPOCHS, \n",
    "          batch_size=BATCH_SIZE, \n",
    "          validation_data=(x_test, y_test), \n",
    "          shuffle=True,\n",
    "          callbacks=[earlystop]\n",
    "         )\n",
    "\n",
    "# Collect results\n",
    "train_loss = model.history.history[\"loss\"]\n",
    "valid_loss = model.history.history[\"val_loss\"]\n",
    "train_acc = model.history.history[\"acc\"]\n",
    "valid_acc = model.history.history[\"val_acc\"]"
   ]
  },
  {
   "cell_type": "code",
   "execution_count": 12,
   "metadata": {},
   "outputs": [
    {
     "data": {
      "image/png": "[encoded data removed]",
      "text/plain": [
       "<Figure size 432x288 with 1 Axes>"
      ]
     },
     "metadata": {
      "needs_background": "light"
     },
     "output_type": "display_data"
    },
    {
     "data": {
      "image/png": "[encoded data removed]",
      "text/plain": [
       "<Figure size 432x288 with 1 Axes>"
      ]
     },
     "metadata": {
      "needs_background": "light"
     },
     "output_type": "display_data"
    }
   ],
   "source": [
    "import matplotlib.pyplot as plt\n",
    "%matplotlib inline\n",
    "\"\"\"Code Here\n",
    "將結果繪出\n",
    "\"\"\"\n",
    "import matplotlib.pyplot as plt\n",
    "%matplotlib inline\n",
    "\n",
    "plt.plot(range(len(train_loss)), train_loss, label=\"train loss\")\n",
    "plt.plot(range(len(valid_loss)), valid_loss, label=\"valid loss\")\n",
    "plt.legend()\n",
    "plt.title(\"Loss\")\n",
    "plt.show()\n",
    "\n",
    "plt.plot(range(len(train_acc)), train_acc, label=\"train accuracy\")\n",
    "plt.plot(range(len(valid_acc)), valid_acc, label=\"valid accuracy\")\n",
    "plt.legend()\n",
    "plt.title(\"Accuracy\")\n",
    "plt.show()"
   ]
  },
  {
   "cell_type": "code",
   "execution_count": 20,
   "metadata": {
    "scrolled": true
   },
   "outputs": [
    {
     "name": "stdout",
     "output_type": "stream",
     "text": [
      "_________________________________________________________________\n",
      "Layer (type)                 Output Shape              Param #   \n",
      "=================================================================\n",
      "input_1 (InputLayer)         (None, 3072)              0         \n",
      "_________________________________________________________________\n",
      "hidden_layer1 (Dense)        (None, 512)               1573376   \n",
      "_________________________________________________________________\n",
      "batch_normalization_1 (Batch (None, 512)               2048      \n",
      "_________________________________________________________________\n",
      "hidden_layer2 (Dense)        (None, 256)               131328    \n",
      "_________________________________________________________________\n",
      "batch_normalization_2 (Batch (None, 256)               1024      \n",
      "_________________________________________________________________\n",
      "hidden_layer3 (Dense)        (None, 128)               32896     \n",
      "_________________________________________________________________\n",
      "batch_normalization_3 (Batch (None, 128)               512       \n",
      "_________________________________________________________________\n",
      "output (Dense)               (None, 10)                1290      \n",
      "=================================================================\n",
      "Total params: 1,742,474\n",
      "Trainable params: 1,740,682\n",
      "Non-trainable params: 1,792\n",
      "_________________________________________________________________\n",
      "Train on 50000 samples, validate on 10000 samples\n",
      "Epoch 1/50\n",
      "50000/50000 [==============================] - 5s 95us/step - loss: 2.2380 - acc: 0.2698 - val_loss: 2.1776 - val_acc: 0.3058\n",
      "Epoch 2/50\n",
      "50000/50000 [==============================] - 4s 86us/step - loss: 1.7484 - acc: 0.3918 - val_loss: 1.8021 - val_acc: 0.3853\n",
      "Epoch 3/50\n",
      "50000/50000 [==============================] - 4s 85us/step - loss: 1.6235 - acc: 0.4299 - val_loss: 1.7027 - val_acc: 0.4147\n",
      "Epoch 4/50\n",
      "50000/50000 [==============================] - 4s 84us/step - loss: 1.5495 - acc: 0.4576 - val_loss: 1.6321 - val_acc: 0.4323\n",
      "Epoch 5/50\n",
      "50000/50000 [==============================] - 4s 84us/step - loss: 1.4944 - acc: 0.4799 - val_loss: 1.5911 - val_acc: 0.4453\n",
      "Epoch 6/50\n",
      "50000/50000 [==============================] - 4s 84us/step - loss: 1.4475 - acc: 0.4964 - val_loss: 1.5598 - val_acc: 0.4517\n",
      "Epoch 7/50\n",
      "50000/50000 [==============================] - 4s 82us/step - loss: 1.4070 - acc: 0.5117 - val_loss: 1.5313 - val_acc: 0.4582\n",
      "Epoch 8/50\n",
      "50000/50000 [==============================] - 4s 82us/step - loss: 1.3716 - acc: 0.5231 - val_loss: 1.5381 - val_acc: 0.4587\n",
      "Epoch 9/50\n",
      "50000/50000 [==============================] - 4s 83us/step - loss: 1.3407 - acc: 0.5327 - val_loss: 1.5243 - val_acc: 0.4664\n",
      "Epoch 10/50\n",
      "50000/50000 [==============================] - 4s 83us/step - loss: 1.3086 - acc: 0.5464 - val_loss: 1.4889 - val_acc: 0.4829\n",
      "Epoch 11/50\n",
      "50000/50000 [==============================] - 4s 82us/step - loss: 1.2804 - acc: 0.5571 - val_loss: 1.4956 - val_acc: 0.4802\n",
      "Epoch 12/50\n",
      "50000/50000 [==============================] - 4s 83us/step - loss: 1.2542 - acc: 0.5651 - val_loss: 1.4738 - val_acc: 0.4885\n",
      "Epoch 13/50\n",
      "50000/50000 [==============================] - 4s 83us/step - loss: 1.2270 - acc: 0.5777 - val_loss: 1.4611 - val_acc: 0.4892\n",
      "Epoch 14/50\n",
      "50000/50000 [==============================] - 4s 83us/step - loss: 1.2044 - acc: 0.5839 - val_loss: 1.4613 - val_acc: 0.4872\n",
      "Epoch 15/50\n",
      "50000/50000 [==============================] - 4s 87us/step - loss: 1.1782 - acc: 0.5936 - val_loss: 1.4648 - val_acc: 0.4876\n",
      "Epoch 16/50\n",
      "50000/50000 [==============================] - 4s 86us/step - loss: 1.1540 - acc: 0.6023 - val_loss: 1.4457 - val_acc: 0.4912\n",
      "Epoch 17/50\n",
      "50000/50000 [==============================] - 4s 85us/step - loss: 1.1326 - acc: 0.6100 - val_loss: 1.4445 - val_acc: 0.4978\n",
      "Epoch 18/50\n",
      "50000/50000 [==============================] - 4s 81us/step - loss: 1.1104 - acc: 0.6204 - val_loss: 1.4462 - val_acc: 0.4958\n",
      "Epoch 19/50\n",
      "50000/50000 [==============================] - 4s 81us/step - loss: 1.0877 - acc: 0.6296 - val_loss: 1.4385 - val_acc: 0.4939\n",
      "Epoch 20/50\n",
      "50000/50000 [==============================] - 4s 80us/step - loss: 1.0657 - acc: 0.6357 - val_loss: 1.4429 - val_acc: 0.4979\n",
      "Epoch 21/50\n",
      "50000/50000 [==============================] - 4s 80us/step - loss: 1.0463 - acc: 0.6438 - val_loss: 1.4505 - val_acc: 0.4930\n",
      "Epoch 22/50\n",
      "50000/50000 [==============================] - 4s 81us/step - loss: 1.0264 - acc: 0.6499 - val_loss: 1.4479 - val_acc: 0.4927\n",
      "Epoch 23/50\n",
      "50000/50000 [==============================] - 4s 81us/step - loss: 1.0039 - acc: 0.6593 - val_loss: 1.4375 - val_acc: 0.4970\n",
      "Epoch 24/50\n",
      "50000/50000 [==============================] - 4s 81us/step - loss: 0.9837 - acc: 0.6667 - val_loss: 1.4521 - val_acc: 0.4971\n",
      "Epoch 25/50\n",
      "50000/50000 [==============================] - 4s 80us/step - loss: 0.9638 - acc: 0.6768 - val_loss: 1.4477 - val_acc: 0.4983\n",
      "Epoch 26/50\n",
      "50000/50000 [==============================] - 4s 81us/step - loss: 0.9437 - acc: 0.6837 - val_loss: 1.4433 - val_acc: 0.5006\n",
      "Epoch 27/50\n",
      "50000/50000 [==============================] - 4s 80us/step - loss: 0.9238 - acc: 0.6921 - val_loss: 1.4549 - val_acc: 0.5001\n",
      "Epoch 28/50\n",
      "50000/50000 [==============================] - 4s 80us/step - loss: 0.9050 - acc: 0.6983 - val_loss: 1.4641 - val_acc: 0.4931\n",
      "Epoch 29/50\n",
      "50000/50000 [==============================] - 4s 80us/step - loss: 0.8868 - acc: 0.7053 - val_loss: 1.4552 - val_acc: 0.4970\n",
      "Epoch 30/50\n",
      "50000/50000 [==============================] - 4s 80us/step - loss: 0.8675 - acc: 0.7130 - val_loss: 1.4775 - val_acc: 0.4919\n",
      "Epoch 31/50\n",
      "50000/50000 [==============================] - 4s 81us/step - loss: 0.8456 - acc: 0.7216 - val_loss: 1.4732 - val_acc: 0.4980\n",
      "Epoch 32/50\n",
      "50000/50000 [==============================] - 4s 80us/step - loss: 0.8263 - acc: 0.7288 - val_loss: 1.4704 - val_acc: 0.4990\n",
      "Epoch 33/50\n",
      "50000/50000 [==============================] - 4s 80us/step - loss: 0.8074 - acc: 0.7353 - val_loss: 1.4841 - val_acc: 0.4995\n",
      "Epoch 34/50\n",
      "50000/50000 [==============================] - 4s 81us/step - loss: 0.7864 - acc: 0.7437 - val_loss: 1.4904 - val_acc: 0.4952\n",
      "Epoch 35/50\n",
      "50000/50000 [==============================] - 4s 81us/step - loss: 0.7685 - acc: 0.7518 - val_loss: 1.4917 - val_acc: 0.4984\n",
      "Epoch 36/50\n",
      "50000/50000 [==============================] - 4s 80us/step - loss: 0.7496 - acc: 0.7588 - val_loss: 1.5039 - val_acc: 0.4994\n",
      "Epoch 37/50\n",
      "50000/50000 [==============================] - 4s 80us/step - loss: 0.7299 - acc: 0.7657 - val_loss: 1.5137 - val_acc: 0.4963\n",
      "Epoch 38/50\n",
      "50000/50000 [==============================] - 4s 86us/step - loss: 0.7137 - acc: 0.7728 - val_loss: 1.5210 - val_acc: 0.4955\n",
      "Epoch 39/50\n",
      "50000/50000 [==============================] - 4s 83us/step - loss: 0.6947 - acc: 0.7798 - val_loss: 1.5417 - val_acc: 0.4906\n",
      "Epoch 40/50\n",
      "50000/50000 [==============================] - 4s 83us/step - loss: 0.6763 - acc: 0.7871 - val_loss: 1.5280 - val_acc: 0.4974\n",
      "Epoch 41/50\n",
      "50000/50000 [==============================] - 4s 83us/step - loss: 0.6569 - acc: 0.7956 - val_loss: 1.5444 - val_acc: 0.4953\n",
      "Epoch 42/50\n",
      "50000/50000 [==============================] - 4s 85us/step - loss: 0.6404 - acc: 0.8019 - val_loss: 1.5772 - val_acc: 0.4959\n",
      "Epoch 43/50\n",
      "50000/50000 [==============================] - 4s 82us/step - loss: 0.6223 - acc: 0.8079 - val_loss: 1.5674 - val_acc: 0.4965\n",
      "Epoch 44/50\n",
      "50000/50000 [==============================] - 4s 83us/step - loss: 0.6058 - acc: 0.8156 - val_loss: 1.5810 - val_acc: 0.4956\n",
      "Epoch 45/50\n",
      "50000/50000 [==============================] - 4s 82us/step - loss: 0.5905 - acc: 0.8219 - val_loss: 1.5996 - val_acc: 0.4906\n",
      "Epoch 46/50\n",
      "50000/50000 [==============================] - 4s 83us/step - loss: 0.5721 - acc: 0.8287 - val_loss: 1.6014 - val_acc: 0.4916\n",
      "Epoch 47/50\n",
      "50000/50000 [==============================] - 4s 83us/step - loss: 0.5557 - acc: 0.8352 - val_loss: 1.6319 - val_acc: 0.4931\n",
      "Epoch 48/50\n",
      "50000/50000 [==============================] - 4s 82us/step - loss: 0.5368 - acc: 0.8437 - val_loss: 1.6201 - val_acc: 0.4942\n",
      "Epoch 49/50\n",
      "50000/50000 [==============================] - 4s 81us/step - loss: 0.5203 - acc: 0.8501 - val_loss: 1.6420 - val_acc: 0.4963\n",
      "Epoch 50/50\n",
      "50000/50000 [==============================] - 4s 81us/step - loss: 0.5017 - acc: 0.8570 - val_loss: 1.6466 - val_acc: 0.4944\n"
     ]
    }
   ],
   "source": [
    "#將等待次數調整為25\n",
    "earlystop = EarlyStopping(monitor=\"val_acc\", \n",
    "                          patience=25, \n",
    "                          verbose=1\n",
    "                          )\n",
    "results = {}\n",
    "\"\"\"Code Here\n",
    "撰寫你的訓練流程並將結果用 dictionary 紀錄\n",
    "\"\"\"\n",
    "keras.backend.clear_session() # 把舊的 Graph 清掉\n",
    "model = build_mlp(input_shape=x_train.shape[1:])\n",
    "model.summary()\n",
    "optimizer = keras.optimizers.SGD(lr=LEARNING_RATE, nesterov=True, momentum=MOMENTUM)\n",
    "model.compile(loss=\"categorical_crossentropy\", metrics=[\"accuracy\"], optimizer=optimizer)\n",
    "\n",
    "model.fit(x_train, y_train, \n",
    "          epochs=EPOCHS, \n",
    "          batch_size=BATCH_SIZE, \n",
    "          validation_data=(x_test, y_test), \n",
    "          shuffle=True,\n",
    "          callbacks=[earlystop]\n",
    "         )\n",
    "\n",
    "# Collect results\n",
    "train_loss = model.history.history[\"loss\"]\n",
    "valid_loss = model.history.history[\"val_loss\"]\n",
    "train_acc = model.history.history[\"acc\"]\n",
    "valid_acc = model.history.history[\"val_acc\"]"
   ]
  },
  {
   "cell_type": "code",
   "execution_count": 22,
   "metadata": {},
   "outputs": [
    {
     "data": {
      "image/png": "[encoded data removed]",
      "text/plain": [
       "<Figure size 432x288 with 1 Axes>"
      ]
     },
     "metadata": {
      "needs_background": "light"
     },
     "output_type": "display_data"
    },
    {
     "data": {
      "image/png": "[encoded data removed]",
      "text/plain": [
       "<Figure size 432x288 with 1 Axes>"
      ]
     },
     "metadata": {
      "needs_background": "light"
     },
     "output_type": "display_data"
    }
   ],
   "source": [
    "plt.plot(range(len(train_loss)), train_loss, label=\"train loss\")\n",
    "plt.plot(range(len(valid_loss)), valid_loss, label=\"valid loss\")\n",
    "plt.legend()\n",
    "plt.title(\"Loss\")\n",
    "plt.show()\n",
    "\n",
    "plt.plot(range(len(train_acc)), train_acc, label=\"train accuracy\")\n",
    "plt.plot(range(len(valid_acc)), valid_acc, label=\"valid accuracy\")\n",
    "plt.legend()\n",
    "plt.title(\"Accuracy\")\n",
    "plt.show()"
   ]
  },
  {
   "cell_type": "markdown",
   "metadata": {},
   "source": [
    "* 如果patience設的大，那麼最終得到的準確率要略低於模型可以達到的最高準確率。  \n",
    "* 如果patience設的小，那麼模型很可能在前期抖動，還在全圖搜索的階段就停止了，準確率一般很差。patience的大小和learning rate直接相關。"
   ]
  },
  {
   "cell_type": "code",
   "execution_count": null,
   "metadata": {},
   "outputs": [],
   "source": []
  }
 ],
 "metadata": {
  "kernelspec": {
   "display_name": "Python 3",
   "language": "python",
   "name": "python3"
  },
  "language_info": {
   "codemirror_mode": {
    "name": "ipython",
    "version": 3
   },
   "file_extension": ".py",
   "mimetype": "text/x-python",
   "name": "python",
   "nbconvert_exporter": "python",
   "pygments_lexer": "ipython3",
   "version": "3.6.8"
  }
 },
 "nbformat": 4,
 "nbformat_minor": 2
}
