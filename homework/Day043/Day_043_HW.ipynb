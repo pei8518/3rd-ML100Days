{
 "cells": [
  {
   "cell_type": "markdown",
   "metadata": {},
   "source": [
    "## [作業重點]\n",
    "了解隨機森林改善了決策樹的什麼缺點？是用什麼方法改進的？"
   ]
  },
  {
   "cell_type": "markdown",
   "metadata": {},
   "source": [
    "## 作業\n",
    "\n",
    "閱讀以下兩篇文獻，了解隨機森林原理，並試著回答後續的思考問題\n",
    "- [隨機森林 (random forest) - 中文](http://hhtucode.blogspot.tw/2013/06/ml-random-forest.html)\n",
    "- [how random forest works - 英文](https://medium.com/@Synced/how-random-forest-algorithm-works-in-machine-learning-3c0fe15b6674)"
   ]
  },
  {
   "cell_type": "markdown",
   "metadata": {},
   "source": [
    "\n",
    "1. 隨機森林中的每一棵樹，是希望能夠\n",
    "\n",
    "    - 沒有任何限制，讓樹可以持續生長 (讓樹生成很深，讓模型變得複雜)\n",
    "    \n",
    "    - 不要過度生長，避免 Overfitting\n",
    "    \n",
    "    \n",
    "2. 假設總共有 N 筆資料，每棵樹用取後放回的方式抽了總共 N 筆資料生成，請問這棵樹大約使用了多少 % 不重複的原資料生成?\n",
    "hint: 0.632 bootstrap\n"
   ]
  },
  {
   "cell_type": "markdown",
   "metadata": {},
   "source": [
    "* 樣本數總共為N，每筆資料被選中的機率為1/N，而沒有被選到機率為（1-1/N）, 總共抽了N次，因此任一筆資料在經過N次抽選都未被选中的概率是(1-1/N)^N。如果N很大，這個機率會逼近於 e^(-1)=0.368。因此有63.2%的樣本被選為訓練集，而36.8%的樣本被作為測試集。   \n",
    "* 參考來源: [分类（5）：组合分类器-随机森林](http://longgb246.github.io/2017/02/15/ML_ITDM_classfy_05/)"
   ]
  },
  {
   "cell_type": "markdown",
   "metadata": {},
   "source": [
    "#### 證明: (https://stats.stackexchange.com/questions/96739/what-is-the-632-rule-in-bootstrapping)"
   ]
  },
  {
   "cell_type": "code",
   "execution_count": 9,
   "metadata": {},
   "outputs": [
    {
     "name": "stdout",
     "output_type": "stream",
     "text": [
      "value for  0  iteration  p =  0.64\n",
      "value for  50  iteration  p =  0.6363333333333333\n",
      "value for  100  iteration  p =  0.629\n",
      "value for  150  iteration  p =  0.6343333333333333\n",
      "value for  200  iteration  p =  0.634\n",
      "value for  250  iteration  p =  0.629\n",
      "value for  300  iteration  p =  0.6263333333333333\n",
      "value for  350  iteration  p =  0.64\n",
      "value for  400  iteration  p =  0.6406666666666667\n",
      "value for  450  iteration  p =  0.6303333333333333\n",
      "value for  500  iteration  p =  0.6366666666666667\n",
      "value for  550  iteration  p =  0.6353333333333333\n",
      "value for  600  iteration  p =  0.6286666666666667\n",
      "value for  650  iteration  p =  0.6356666666666667\n",
      "value for  700  iteration  p =  0.633\n",
      "value for  750  iteration  p =  0.6276666666666667\n",
      "value for  800  iteration  p =  0.6356666666666667\n",
      "value for  850  iteration  p =  0.638\n",
      "value for  900  iteration  p =  0.6316666666666667\n",
      "value for  950  iteration  p =  0.635\n",
      "Estimator of the proportion of remaining variables,  0.632088\n"
     ]
    }
   ],
   "source": [
    "from numpy import mean\n",
    "from numpy.random import choice\n",
    "\n",
    "N = 3000\n",
    "\n",
    "variables = range(N)\n",
    "\n",
    "num_loop = 1000\n",
    "# Proportion of remaining variables\n",
    "p_var = []\n",
    "\n",
    "for i in range(num_loop):\n",
    "    set_var = set(choice(variables, N))\n",
    "    p=len(set_var)/float(N)\n",
    "    if i%50==0:\n",
    "        print(\"value for \", i, \" iteration \", \"p = \",p)\n",
    "    p_var.append(p)\n",
    "\n",
    "print(\"Estimator of the proportion of remaining variables, \", mean(p_var))"
   ]
  },
  {
   "cell_type": "code",
   "execution_count": null,
   "metadata": {},
   "outputs": [],
   "source": []
  }
 ],
 "metadata": {
  "kernelspec": {
   "display_name": "Python 3",
   "language": "python",
   "name": "python3"
  },
  "language_info": {
   "codemirror_mode": {
    "name": "ipython",
    "version": 3
   },
   "file_extension": ".py",
   "mimetype": "text/x-python",
   "name": "python",
   "nbconvert_exporter": "python",
   "pygments_lexer": "ipython3",
   "version": "3.6.8"
  }
 },
 "nbformat": 4,
 "nbformat_minor": 2
}
