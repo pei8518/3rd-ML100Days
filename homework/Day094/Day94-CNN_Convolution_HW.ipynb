{
 "cells": [
  {
   "cell_type": "markdown",
   "metadata": {},
   "source": [
    "# 作業目標:\n",
    "    了解 Convolution 卷積的組成"
   ]
  },
  {
   "cell_type": "markdown",
   "metadata": {},
   "source": [
    "# 作業重點:\n",
    "    修改 a_slice_prev, 檢查 Z 的輸出"
   ]
  },
  {
   "cell_type": "code",
   "execution_count": 1,
   "metadata": {},
   "outputs": [],
   "source": [
    "import numpy as np"
   ]
  },
  {
   "cell_type": "code",
   "execution_count": 11,
   "metadata": {},
   "outputs": [],
   "source": [
    "# GRADED FUNCTION: conv_single_step\n",
    "def conv_single_step(a_slice_prev, W, b):\n",
    "    \"\"\"\n",
    "    定義一層 Kernel (內核), 使用的參數說明如下\n",
    "    Arguments:\n",
    "        a_slice_prev -- 輸入資料的維度\n",
    "        W -- 權重, 被使用在 a_slice_prev\n",
    "        b -- 偏差參數 \n",
    "    Returns:\n",
    "        Z -- 滑動窗口（W，b）卷積在前一個 feature map 上的結果\n",
    "    \"\"\"\n",
    "\n",
    "    # 定義一個元素介於 a_slice and W\n",
    "    s = a_slice_prev * W\n",
    "    # 加總所有的 \"s\" 並指定給Z.\n",
    "    Z = np.sum(s)\n",
    "    # Add bias b to Z. 這是 float() 函數,\n",
    "    Z = float(Z + b)\n",
    "\n",
    "    return Z"
   ]
  },
  {
   "cell_type": "code",
   "execution_count": 12,
   "metadata": {},
   "outputs": [],
   "source": [
    "'''\n",
    "\n",
    "np.random.seed(1)\n",
    "#定義一個 axaxd 的 feature map\n",
    "a_slice_prev = \n",
    "W = \n",
    "b = np.random.randn(1, 1, 1)\n",
    "\n",
    "#取得計算後,卷積矩陣的值\n",
    "Z = conv_single_step(a_slice_prev, W, b)\n",
    "print(\"Z =\", Z)\n",
    "'''\n",
    "np.random.seed(1)\n"
   ]
  },
  {
   "cell_type": "code",
   "execution_count": 13,
   "metadata": {},
   "outputs": [
    {
     "data": {
      "text/plain": [
       "array([[[ 1.62434536, -0.61175641, -0.52817175],\n",
       "        [-1.07296862,  0.86540763, -2.3015387 ],\n",
       "        [ 1.74481176, -0.7612069 ,  0.3190391 ],\n",
       "        [-0.24937038,  1.46210794, -2.06014071],\n",
       "        [-0.3224172 , -0.38405435,  1.13376944]],\n",
       "\n",
       "       [[-1.09989127, -0.17242821, -0.87785842],\n",
       "        [ 0.04221375,  0.58281521, -1.10061918],\n",
       "        [ 1.14472371,  0.90159072,  0.50249434],\n",
       "        [ 0.90085595, -0.68372786, -0.12289023],\n",
       "        [-0.93576943, -0.26788808,  0.53035547]],\n",
       "\n",
       "       [[-0.69166075, -0.39675353, -0.6871727 ],\n",
       "        [-0.84520564, -0.67124613, -0.0126646 ],\n",
       "        [-1.11731035,  0.2344157 ,  1.65980218],\n",
       "        [ 0.74204416, -0.19183555, -0.88762896],\n",
       "        [-0.74715829,  1.6924546 ,  0.05080775]],\n",
       "\n",
       "       [[-0.63699565,  0.19091548,  2.10025514],\n",
       "        [ 0.12015895,  0.61720311,  0.30017032],\n",
       "        [-0.35224985, -1.1425182 , -0.34934272],\n",
       "        [-0.20889423,  0.58662319,  0.83898341],\n",
       "        [ 0.93110208,  0.28558733,  0.88514116]]])"
      ]
     },
     "execution_count": 13,
     "metadata": {},
     "output_type": "execute_result"
    }
   ],
   "source": [
    "a_slice_prev = np.random.randn(4, 5, 3) #產生4組5列3行的矩陣\n",
    "a_slice_prev"
   ]
  },
  {
   "cell_type": "code",
   "execution_count": 14,
   "metadata": {},
   "outputs": [
    {
     "data": {
      "text/plain": [
       "array([[[-0.75439794,  1.25286816,  0.51292982],\n",
       "        [-0.29809284,  0.48851815, -0.07557171],\n",
       "        [ 1.13162939,  1.51981682,  2.18557541],\n",
       "        [-1.39649634, -1.44411381, -0.50446586],\n",
       "        [ 0.16003707,  0.87616892,  0.31563495]],\n",
       "\n",
       "       [[-2.02220122, -0.30620401,  0.82797464],\n",
       "        [ 0.23009474,  0.76201118, -0.22232814],\n",
       "        [-0.20075807,  0.18656139,  0.41005165],\n",
       "        [ 0.19829972,  0.11900865, -0.67066229],\n",
       "        [ 0.37756379,  0.12182127,  1.12948391]],\n",
       "\n",
       "       [[ 1.19891788,  0.18515642, -0.37528495],\n",
       "        [-0.63873041,  0.42349435,  0.07734007],\n",
       "        [-0.34385368,  0.04359686, -0.62000084],\n",
       "        [ 0.69803203, -0.44712856,  1.2245077 ],\n",
       "        [ 0.40349164,  0.59357852, -1.09491185]],\n",
       "\n",
       "       [[ 0.16938243,  0.74055645, -0.9537006 ],\n",
       "        [-0.26621851,  0.03261455, -1.37311732],\n",
       "        [ 0.31515939,  0.84616065, -0.85951594],\n",
       "        [ 0.35054598, -1.31228341, -0.03869551],\n",
       "        [-1.61577235,  1.12141771,  0.40890054]]])"
      ]
     },
     "execution_count": 14,
     "metadata": {},
     "output_type": "execute_result"
    }
   ],
   "source": [
    "W = np.random.randn(4, 5, 3)\n",
    "W"
   ]
  },
  {
   "cell_type": "code",
   "execution_count": 15,
   "metadata": {},
   "outputs": [],
   "source": [
    "b = np.random.randn(1, 1, 1)"
   ]
  },
  {
   "cell_type": "code",
   "execution_count": 16,
   "metadata": {},
   "outputs": [
    {
     "name": "stdout",
     "output_type": "stream",
     "text": [
      "Z = -3.553615434371688\n"
     ]
    }
   ],
   "source": [
    "#取得計算後,卷績矩陣的值\n",
    "Z = conv_single_step(a_slice_prev, W, b)\n",
    "print(\"Z =\", Z)"
   ]
  },
  {
   "cell_type": "code",
   "execution_count": null,
   "metadata": {},
   "outputs": [],
   "source": []
  }
 ],
 "metadata": {
  "kernelspec": {
   "display_name": "Python 3",
   "language": "python",
   "name": "python3"
  },
  "language_info": {
   "codemirror_mode": {
    "name": "ipython",
    "version": 3
   },
   "file_extension": ".py",
   "mimetype": "text/x-python",
   "name": "python",
   "nbconvert_exporter": "python",
   "pygments_lexer": "ipython3",
   "version": "3.6.8"
  }
 },
 "nbformat": 4,
 "nbformat_minor": 2
}
