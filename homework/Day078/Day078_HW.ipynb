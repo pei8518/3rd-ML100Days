{
 "cells": [
  {
   "cell_type": "markdown",
   "metadata": {},
   "source": [
    "## Work\n",
    "1. 請嘗試將 preproc_x 替換成以每筆資料的 min/max 進行標準化至 -1 ~ 1 間，再進行訓練\n",
    "2. 請嘗試將 mlp 疊更深 (e.g 5~10 層)，進行訓練後觀察 learning curve 的走勢\n",
    "3. (optional) 請改用 GPU 進行訓練 (如果你有 GPU 的話)，比較使用 CPU 與 GPU 的訓練速度"
   ]
  },
  {
   "cell_type": "code",
   "execution_count": 1,
   "metadata": {},
   "outputs": [],
   "source": [
    "## \n",
    "\"\"\"\n",
    "Your code here (optional)\n",
    "確認硬體資源\n",
    "\"\"\"\n"
   ]
  },
  {
   "cell_type": "code",
   "execution_count": 1,
   "metadata": {},
   "outputs": [
    {
     "name": "stderr",
     "output_type": "stream",
     "text": [
      "Using TensorFlow backend.\n",
      "c:\\python36\\lib\\site-packages\\tensorflow\\python\\framework\\dtypes.py:519: FutureWarning: Passing (type, 1) or '1type' as a synonym of type is deprecated; in a future version of numpy, it will be understood as (type, (1,)) / '(1,)type'.\n",
      "  _np_qint8 = np.dtype([(\"qint8\", np.int8, 1)])\n",
      "c:\\python36\\lib\\site-packages\\tensorflow\\python\\framework\\dtypes.py:520: FutureWarning: Passing (type, 1) or '1type' as a synonym of type is deprecated; in a future version of numpy, it will be understood as (type, (1,)) / '(1,)type'.\n",
      "  _np_quint8 = np.dtype([(\"quint8\", np.uint8, 1)])\n",
      "c:\\python36\\lib\\site-packages\\tensorflow\\python\\framework\\dtypes.py:521: FutureWarning: Passing (type, 1) or '1type' as a synonym of type is deprecated; in a future version of numpy, it will be understood as (type, (1,)) / '(1,)type'.\n",
      "  _np_qint16 = np.dtype([(\"qint16\", np.int16, 1)])\n",
      "c:\\python36\\lib\\site-packages\\tensorflow\\python\\framework\\dtypes.py:522: FutureWarning: Passing (type, 1) or '1type' as a synonym of type is deprecated; in a future version of numpy, it will be understood as (type, (1,)) / '(1,)type'.\n",
      "  _np_quint16 = np.dtype([(\"quint16\", np.uint16, 1)])\n",
      "c:\\python36\\lib\\site-packages\\tensorflow\\python\\framework\\dtypes.py:523: FutureWarning: Passing (type, 1) or '1type' as a synonym of type is deprecated; in a future version of numpy, it will be understood as (type, (1,)) / '(1,)type'.\n",
      "  _np_qint32 = np.dtype([(\"qint32\", np.int32, 1)])\n",
      "c:\\python36\\lib\\site-packages\\tensorflow\\python\\framework\\dtypes.py:528: FutureWarning: Passing (type, 1) or '1type' as a synonym of type is deprecated; in a future version of numpy, it will be understood as (type, (1,)) / '(1,)type'.\n",
      "  np_resource = np.dtype([(\"resource\", np.ubyte, 1)])\n",
      "c:\\python36\\lib\\site-packages\\matplotlib\\__init__.py:1003: UserWarning: Duplicate key in file \"c:\\python36\\lib\\site-packages\\matplotlib\\mpl-data\\matplotlibrc\", line #196\n",
      "  (fname, cnt))\n"
     ]
    }
   ],
   "source": [
    "import os\n",
    "import keras\n",
    "\n",
    "# 請嘗試設定 GPU：os.environ\n",
    "os.environ[\"CUDA_VISIBLE_DEVICES\"] = \"\""
   ]
  },
  {
   "cell_type": "code",
   "execution_count": 2,
   "metadata": {},
   "outputs": [],
   "source": [
    "train, test = keras.datasets.cifar10.load_data()"
   ]
  },
  {
   "cell_type": "code",
   "execution_count": 3,
   "metadata": {},
   "outputs": [],
   "source": [
    "## 資料前處理\n",
    "def preproc_x(x, flatten=True):\n",
    "    x = x / 255.\n",
    "    if flatten:\n",
    "        x = x.reshape((len(x), -1))\n",
    "    return x\n",
    "\n",
    "def preproc_y(y, num_classes=10):\n",
    "    if y.shape[-1] == 1:\n",
    "        y = keras.utils.to_categorical(y, num_classes)\n",
    "    return y "
   ]
  },
  {
   "cell_type": "code",
   "execution_count": 7,
   "metadata": {},
   "outputs": [],
   "source": [
    "x_train, y_train = train\n",
    "x_test, y_test = test\n",
    "\n",
    "# Preproc the inputs\n",
    "x_train = preproc_x(x_train)\n",
    "x_test = preproc_x(x_test)\n",
    "\n",
    "# Preprc the outputs\n",
    "y_train = preproc_y(y_train)\n",
    "y_test = preproc_y(y_test)"
   ]
  },
  {
   "cell_type": "code",
   "execution_count": 9,
   "metadata": {},
   "outputs": [
    {
     "data": {
      "text/plain": [
       "array([[0.23137255, 0.24313725, 0.24705882, ..., 0.48235294, 0.36078431,\n",
       "        0.28235294],\n",
       "       [0.60392157, 0.69411765, 0.73333333, ..., 0.56078431, 0.52156863,\n",
       "        0.56470588],\n",
       "       [1.        , 1.        , 1.        , ..., 0.31372549, 0.3372549 ,\n",
       "        0.32941176],\n",
       "       ...,\n",
       "       [0.1372549 , 0.69803922, 0.92156863, ..., 0.04705882, 0.12156863,\n",
       "        0.19607843],\n",
       "       [0.74117647, 0.82745098, 0.94117647, ..., 0.76470588, 0.74509804,\n",
       "        0.67058824],\n",
       "       [0.89803922, 0.89803922, 0.9372549 , ..., 0.63921569, 0.63921569,\n",
       "        0.63137255]])"
      ]
     },
     "execution_count": 9,
     "metadata": {},
     "output_type": "execute_result"
    }
   ],
   "source": [
    "x_train"
   ]
  },
  {
   "cell_type": "code",
   "execution_count": 10,
   "metadata": {},
   "outputs": [
    {
     "name": "stdout",
     "output_type": "stream",
     "text": [
      "_________________________________________________________________\n",
      "Layer (type)                 Output Shape              Param #   \n",
      "=================================================================\n",
      "input_1 (InputLayer)         (None, 3072)              0         \n",
      "_________________________________________________________________\n",
      "hidden_layer1 (Dense)        (None, 512)               1573376   \n",
      "_________________________________________________________________\n",
      "hidden_layer2 (Dense)        (None, 256)               131328    \n",
      "_________________________________________________________________\n",
      "hidden_layer3 (Dense)        (None, 128)               32896     \n",
      "_________________________________________________________________\n",
      "hidden_layer4 (Dense)        (None, 128)               16512     \n",
      "_________________________________________________________________\n",
      "hidden_layer5 (Dense)        (None, 128)               16512     \n",
      "_________________________________________________________________\n",
      "output (Dense)               (None, 10)                1290      \n",
      "=================================================================\n",
      "Total params: 1,771,914\n",
      "Trainable params: 1,771,914\n",
      "Non-trainable params: 0\n",
      "_________________________________________________________________\n"
     ]
    }
   ],
   "source": [
    "#建立你的神經網路\n",
    "def build_mlp(input_shape, output_units=10, num_neurons=[512, 256, 128, 128, 128]):\n",
    "    input_layer = keras.layers.Input(input_shape)\n",
    "    \n",
    "    for i, n_units in enumerate(num_neurons):\n",
    "        if i == 0:\n",
    "            x = keras.layers.Dense(units=n_units, activation=\"relu\", name=\"hidden_layer\"+str(i+1))(input_layer)\n",
    "        else:\n",
    "            x = keras.layers.Dense(units=n_units, activation=\"relu\", name=\"hidden_layer\"+str(i+1))(x)\n",
    "    \n",
    "    out = keras.layers.Dense(units=output_units, activation=\"softmax\", name=\"output\")(x)\n",
    "    \n",
    "    model = keras.models.Model(inputs=[input_layer], outputs=[out])\n",
    "    return model\n",
    "\n",
    "model = build_mlp(input_shape=x_train.shape[1:])\n",
    "model.summary()"
   ]
  },
  {
   "cell_type": "code",
   "execution_count": 11,
   "metadata": {},
   "outputs": [],
   "source": [
    "## 超參數設定\n",
    "LEARNING_RATE = 0.001\n",
    "EPOCHS = 100\n",
    "BATCH_SIZE = 256"
   ]
  },
  {
   "cell_type": "code",
   "execution_count": 12,
   "metadata": {},
   "outputs": [],
   "source": [
    "optimizer = keras.optimizers.Adam(lr=LEARNING_RATE)\n",
    "model.compile(loss=\"categorical_crossentropy\", metrics=[\"accuracy\"], optimizer=optimizer)"
   ]
  },
  {
   "cell_type": "code",
   "execution_count": 13,
   "metadata": {},
   "outputs": [
    {
     "name": "stdout",
     "output_type": "stream",
     "text": [
      "Train on 50000 samples, validate on 10000 samples\n",
      "Epoch 1/100\n",
      "50000/50000 [==============================] - 7s 143us/step - loss: 1.9297 - acc: 0.2941 - val_loss: 1.8013 - val_acc: 0.3482\n",
      "Epoch 2/100\n",
      "50000/50000 [==============================] - 7s 136us/step - loss: 1.7226 - acc: 0.3778 - val_loss: 1.6486 - val_acc: 0.4105\n",
      "Epoch 3/100\n",
      "50000/50000 [==============================] - 7s 141us/step - loss: 1.6294 - acc: 0.4158 - val_loss: 1.6373 - val_acc: 0.4161\n",
      "Epoch 4/100\n",
      "50000/50000 [==============================] - 7s 136us/step - loss: 1.5690 - acc: 0.4367 - val_loss: 1.5752 - val_acc: 0.4423\n",
      "Epoch 5/100\n",
      "50000/50000 [==============================] - 6s 129us/step - loss: 1.5168 - acc: 0.4575 - val_loss: 1.5803 - val_acc: 0.4406\n",
      "Epoch 6/100\n",
      "50000/50000 [==============================] - 7s 133us/step - loss: 1.4831 - acc: 0.4660 - val_loss: 1.4901 - val_acc: 0.4685\n",
      "Epoch 7/100\n",
      "50000/50000 [==============================] - 7s 138us/step - loss: 1.4458 - acc: 0.4835 - val_loss: 1.4638 - val_acc: 0.4766\n",
      "Epoch 8/100\n",
      "50000/50000 [==============================] - 7s 141us/step - loss: 1.4245 - acc: 0.4902 - val_loss: 1.4828 - val_acc: 0.4647\n",
      "Epoch 9/100\n",
      "50000/50000 [==============================] - 7s 135us/step - loss: 1.3821 - acc: 0.5057 - val_loss: 1.4590 - val_acc: 0.4767\n",
      "Epoch 10/100\n",
      "50000/50000 [==============================] - 7s 141us/step - loss: 1.3619 - acc: 0.5120 - val_loss: 1.4946 - val_acc: 0.4761\n",
      "Epoch 11/100\n",
      "50000/50000 [==============================] - 7s 137us/step - loss: 1.3355 - acc: 0.5237 - val_loss: 1.4070 - val_acc: 0.5000\n",
      "Epoch 12/100\n",
      "50000/50000 [==============================] - 7s 139us/step - loss: 1.3178 - acc: 0.5286 - val_loss: 1.4086 - val_acc: 0.4962\n",
      "Epoch 13/100\n",
      "50000/50000 [==============================] - 7s 141us/step - loss: 1.2838 - acc: 0.5423 - val_loss: 1.3963 - val_acc: 0.5021\n",
      "Epoch 14/100\n",
      "50000/50000 [==============================] - 7s 142us/step - loss: 1.2631 - acc: 0.5489 - val_loss: 1.3746 - val_acc: 0.5104\n",
      "Epoch 15/100\n",
      "50000/50000 [==============================] - 7s 144us/step - loss: 1.2383 - acc: 0.5579 - val_loss: 1.4281 - val_acc: 0.4987\n",
      "Epoch 16/100\n",
      "50000/50000 [==============================] - 7s 142us/step - loss: 1.2164 - acc: 0.5629 - val_loss: 1.3749 - val_acc: 0.5132\n",
      "Epoch 17/100\n",
      "50000/50000 [==============================] - 7s 142us/step - loss: 1.1889 - acc: 0.5735 - val_loss: 1.3862 - val_acc: 0.5188\n",
      "Epoch 18/100\n",
      "50000/50000 [==============================] - 7s 137us/step - loss: 1.1734 - acc: 0.5778 - val_loss: 1.3850 - val_acc: 0.5135\n",
      "Epoch 19/100\n",
      "50000/50000 [==============================] - 7s 135us/step - loss: 1.1575 - acc: 0.5861 - val_loss: 1.4334 - val_acc: 0.5106\n",
      "Epoch 20/100\n",
      "50000/50000 [==============================] - 7s 138us/step - loss: 1.1253 - acc: 0.5956 - val_loss: 1.3626 - val_acc: 0.5299\n",
      "Epoch 21/100\n",
      "50000/50000 [==============================] - 7s 140us/step - loss: 1.1120 - acc: 0.6002 - val_loss: 1.3916 - val_acc: 0.5172\n",
      "Epoch 22/100\n",
      "50000/50000 [==============================] - 7s 139us/step - loss: 1.0837 - acc: 0.6109 - val_loss: 1.3991 - val_acc: 0.5154\n",
      "Epoch 23/100\n",
      "50000/50000 [==============================] - 7s 141us/step - loss: 1.0663 - acc: 0.6178 - val_loss: 1.4135 - val_acc: 0.5200\n",
      "Epoch 24/100\n",
      "50000/50000 [==============================] - 7s 143us/step - loss: 1.0361 - acc: 0.6271 - val_loss: 1.4405 - val_acc: 0.5143\n",
      "Epoch 25/100\n",
      "50000/50000 [==============================] - 7s 143us/step - loss: 1.0243 - acc: 0.6322 - val_loss: 1.4268 - val_acc: 0.5187\n",
      "Epoch 26/100\n",
      "50000/50000 [==============================] - 7s 138us/step - loss: 1.0109 - acc: 0.6354 - val_loss: 1.4317 - val_acc: 0.5142\n",
      "Epoch 27/100\n",
      "50000/50000 [==============================] - 7s 132us/step - loss: 0.9892 - acc: 0.6449 - val_loss: 1.4689 - val_acc: 0.5070\n",
      "Epoch 28/100\n",
      "50000/50000 [==============================] - 7s 134us/step - loss: 0.9646 - acc: 0.6552 - val_loss: 1.4685 - val_acc: 0.5158\n",
      "Epoch 29/100\n",
      "50000/50000 [==============================] - 7s 136us/step - loss: 0.9449 - acc: 0.6602 - val_loss: 1.5099 - val_acc: 0.5105\n",
      "Epoch 30/100\n",
      "50000/50000 [==============================] - 7s 145us/step - loss: 0.9301 - acc: 0.6657 - val_loss: 1.4869 - val_acc: 0.5215\n",
      "Epoch 31/100\n",
      "50000/50000 [==============================] - 7s 134us/step - loss: 0.9095 - acc: 0.6731 - val_loss: 1.5141 - val_acc: 0.5150\n",
      "Epoch 32/100\n",
      "50000/50000 [==============================] - 7s 137us/step - loss: 0.8899 - acc: 0.6812 - val_loss: 1.5415 - val_acc: 0.5165\n",
      "Epoch 33/100\n",
      "50000/50000 [==============================] - 7s 133us/step - loss: 0.8815 - acc: 0.6813 - val_loss: 1.5232 - val_acc: 0.5170\n",
      "Epoch 34/100\n",
      "50000/50000 [==============================] - 7s 143us/step - loss: 0.8611 - acc: 0.6926 - val_loss: 1.5716 - val_acc: 0.5148\n",
      "Epoch 35/100\n",
      "50000/50000 [==============================] - 7s 143us/step - loss: 0.8334 - acc: 0.7027 - val_loss: 1.6292 - val_acc: 0.5113\n",
      "Epoch 36/100\n",
      "50000/50000 [==============================] - 7s 143us/step - loss: 0.8243 - acc: 0.7024 - val_loss: 1.6522 - val_acc: 0.5118\n",
      "Epoch 37/100\n",
      "50000/50000 [==============================] - 7s 143us/step - loss: 0.7920 - acc: 0.7165 - val_loss: 1.5867 - val_acc: 0.5208\n",
      "Epoch 38/100\n",
      "50000/50000 [==============================] - 7s 143us/step - loss: 0.7827 - acc: 0.7177 - val_loss: 1.6929 - val_acc: 0.5045\n",
      "Epoch 39/100\n",
      "50000/50000 [==============================] - 7s 141us/step - loss: 0.7698 - acc: 0.7237 - val_loss: 1.7319 - val_acc: 0.4946\n",
      "Epoch 40/100\n",
      "50000/50000 [==============================] - 7s 140us/step - loss: 0.7594 - acc: 0.7266 - val_loss: 1.6591 - val_acc: 0.5083\n",
      "Epoch 41/100\n",
      "50000/50000 [==============================] - 7s 140us/step - loss: 0.7395 - acc: 0.7344 - val_loss: 1.7466 - val_acc: 0.5080\n",
      "Epoch 42/100\n",
      "50000/50000 [==============================] - 7s 139us/step - loss: 0.7207 - acc: 0.7394 - val_loss: 1.7916 - val_acc: 0.5027\n",
      "Epoch 43/100\n",
      "50000/50000 [==============================] - 7s 139us/step - loss: 0.6991 - acc: 0.7484 - val_loss: 1.7071 - val_acc: 0.5105\n",
      "Epoch 44/100\n",
      "50000/50000 [==============================] - 7s 141us/step - loss: 0.6919 - acc: 0.7517 - val_loss: 1.7583 - val_acc: 0.5044\n",
      "Epoch 45/100\n",
      "50000/50000 [==============================] - 7s 140us/step - loss: 0.6731 - acc: 0.7585 - val_loss: 1.8663 - val_acc: 0.4989\n",
      "Epoch 46/100\n",
      "50000/50000 [==============================] - 7s 141us/step - loss: 0.6614 - acc: 0.7608 - val_loss: 1.8405 - val_acc: 0.5152\n",
      "Epoch 47/100\n",
      "50000/50000 [==============================] - 7s 142us/step - loss: 0.6307 - acc: 0.7732 - val_loss: 1.9899 - val_acc: 0.4936\n",
      "Epoch 48/100\n",
      "50000/50000 [==============================] - 7s 140us/step - loss: 0.6361 - acc: 0.7689 - val_loss: 1.9546 - val_acc: 0.4980\n",
      "Epoch 49/100\n",
      "50000/50000 [==============================] - 7s 140us/step - loss: 0.6209 - acc: 0.7763 - val_loss: 1.9194 - val_acc: 0.5130\n",
      "Epoch 50/100\n",
      "50000/50000 [==============================] - 7s 141us/step - loss: 0.5993 - acc: 0.7858 - val_loss: 1.8944 - val_acc: 0.5115\n",
      "Epoch 51/100\n",
      "50000/50000 [==============================] - 7s 140us/step - loss: 0.5906 - acc: 0.7864 - val_loss: 1.9720 - val_acc: 0.5118\n",
      "Epoch 52/100\n",
      "50000/50000 [==============================] - 7s 140us/step - loss: 0.5994 - acc: 0.7856 - val_loss: 2.0572 - val_acc: 0.5036\n",
      "Epoch 53/100\n",
      "50000/50000 [==============================] - 7s 141us/step - loss: 0.5715 - acc: 0.7935 - val_loss: 2.0565 - val_acc: 0.5085\n",
      "Epoch 54/100\n",
      "50000/50000 [==============================] - 7s 140us/step - loss: 0.5443 - acc: 0.8041 - val_loss: 2.0895 - val_acc: 0.5072\n",
      "Epoch 55/100\n",
      "50000/50000 [==============================] - 7s 140us/step - loss: 0.5387 - acc: 0.8060 - val_loss: 2.1534 - val_acc: 0.5068\n",
      "Epoch 56/100\n",
      "50000/50000 [==============================] - 7s 140us/step - loss: 0.5467 - acc: 0.8037 - val_loss: 2.1026 - val_acc: 0.5109\n",
      "Epoch 57/100\n",
      "50000/50000 [==============================] - 7s 142us/step - loss: 0.5335 - acc: 0.8093 - val_loss: 2.1258 - val_acc: 0.5099\n",
      "Epoch 58/100\n",
      "50000/50000 [==============================] - 7s 141us/step - loss: 0.5164 - acc: 0.8146 - val_loss: 2.1931 - val_acc: 0.5062\n",
      "Epoch 59/100\n",
      "50000/50000 [==============================] - 7s 137us/step - loss: 0.4933 - acc: 0.8221 - val_loss: 2.2031 - val_acc: 0.5040\n",
      "Epoch 60/100\n",
      "50000/50000 [==============================] - 7s 138us/step - loss: 0.5236 - acc: 0.8115 - val_loss: 2.2783 - val_acc: 0.5038\n",
      "Epoch 61/100\n",
      "50000/50000 [==============================] - 7s 140us/step - loss: 0.5094 - acc: 0.8157 - val_loss: 2.2698 - val_acc: 0.4992\n",
      "Epoch 62/100\n",
      "50000/50000 [==============================] - 7s 138us/step - loss: 0.4895 - acc: 0.8240 - val_loss: 2.3571 - val_acc: 0.4948\n",
      "Epoch 63/100\n",
      "50000/50000 [==============================] - 7s 138us/step - loss: 0.4760 - acc: 0.8272 - val_loss: 2.3668 - val_acc: 0.4920\n",
      "Epoch 64/100\n",
      "50000/50000 [==============================] - 7s 139us/step - loss: 0.4662 - acc: 0.8320 - val_loss: 2.3335 - val_acc: 0.5063\n",
      "Epoch 65/100\n",
      "50000/50000 [==============================] - 7s 138us/step - loss: 0.4585 - acc: 0.8336 - val_loss: 2.3723 - val_acc: 0.5024\n",
      "Epoch 66/100\n",
      "50000/50000 [==============================] - 7s 138us/step - loss: 0.4520 - acc: 0.8360 - val_loss: 2.4600 - val_acc: 0.5107\n",
      "Epoch 67/100\n",
      "50000/50000 [==============================] - 7s 139us/step - loss: 0.4491 - acc: 0.8376 - val_loss: 2.4042 - val_acc: 0.5054\n",
      "Epoch 68/100\n",
      "50000/50000 [==============================] - 7s 138us/step - loss: 0.4300 - acc: 0.8452 - val_loss: 2.4987 - val_acc: 0.4978\n",
      "Epoch 69/100\n",
      "50000/50000 [==============================] - 7s 138us/step - loss: 0.4154 - acc: 0.8496 - val_loss: 2.5599 - val_acc: 0.4906\n",
      "Epoch 70/100\n",
      "50000/50000 [==============================] - 7s 138us/step - loss: 0.4335 - acc: 0.8448 - val_loss: 2.5284 - val_acc: 0.5044\n",
      "Epoch 71/100\n",
      "50000/50000 [==============================] - 7s 146us/step - loss: 0.4324 - acc: 0.8451 - val_loss: 2.5703 - val_acc: 0.4951\n",
      "Epoch 72/100\n",
      "50000/50000 [==============================] - 7s 136us/step - loss: 0.4422 - acc: 0.8409 - val_loss: 2.6303 - val_acc: 0.4932\n",
      "Epoch 73/100\n",
      "50000/50000 [==============================] - 7s 137us/step - loss: 0.3923 - acc: 0.8584 - val_loss: 2.5489 - val_acc: 0.5010\n",
      "Epoch 74/100\n",
      "50000/50000 [==============================] - 7s 141us/step - loss: 0.4059 - acc: 0.8537 - val_loss: 2.6773 - val_acc: 0.4964\n",
      "Epoch 75/100\n",
      "50000/50000 [==============================] - 7s 143us/step - loss: 0.3763 - acc: 0.8643 - val_loss: 2.6986 - val_acc: 0.5029\n",
      "Epoch 76/100\n",
      "50000/50000 [==============================] - 7s 134us/step - loss: 0.3881 - acc: 0.8598 - val_loss: 2.8274 - val_acc: 0.4958\n",
      "Epoch 77/100\n",
      "50000/50000 [==============================] - 7s 133us/step - loss: 0.3855 - acc: 0.8590 - val_loss: 2.7206 - val_acc: 0.4945\n",
      "Epoch 78/100\n",
      "50000/50000 [==============================] - 7s 135us/step - loss: 0.3889 - acc: 0.8597 - val_loss: 2.8861 - val_acc: 0.4891\n",
      "Epoch 79/100\n",
      "50000/50000 [==============================] - 7s 135us/step - loss: 0.3857 - acc: 0.8615 - val_loss: 2.8538 - val_acc: 0.5008\n",
      "Epoch 80/100\n",
      "50000/50000 [==============================] - 7s 136us/step - loss: 0.3846 - acc: 0.8608 - val_loss: 2.9596 - val_acc: 0.4861\n",
      "Epoch 81/100\n",
      "50000/50000 [==============================] - 7s 136us/step - loss: 0.3547 - acc: 0.8722 - val_loss: 2.9659 - val_acc: 0.4940\n",
      "Epoch 82/100\n",
      "50000/50000 [==============================] - 7s 138us/step - loss: 0.3601 - acc: 0.8710 - val_loss: 2.8261 - val_acc: 0.4942\n",
      "Epoch 83/100\n",
      "50000/50000 [==============================] - 7s 141us/step - loss: 0.3518 - acc: 0.8726 - val_loss: 3.0029 - val_acc: 0.4878\n",
      "Epoch 84/100\n",
      "50000/50000 [==============================] - 7s 142us/step - loss: 0.3627 - acc: 0.8696 - val_loss: 3.0486 - val_acc: 0.4782\n",
      "Epoch 85/100\n",
      "50000/50000 [==============================] - 7s 135us/step - loss: 0.3776 - acc: 0.8629 - val_loss: 3.0050 - val_acc: 0.4939\n",
      "Epoch 86/100\n",
      "50000/50000 [==============================] - 7s 134us/step - loss: 0.3326 - acc: 0.8809 - val_loss: 2.9327 - val_acc: 0.5037\n",
      "Epoch 87/100\n",
      "50000/50000 [==============================] - 7s 135us/step - loss: 0.3501 - acc: 0.8754 - val_loss: 2.9937 - val_acc: 0.4931\n",
      "Epoch 88/100\n",
      "50000/50000 [==============================] - 7s 141us/step - loss: 0.3368 - acc: 0.8776 - val_loss: 2.9882 - val_acc: 0.4952\n",
      "Epoch 89/100\n",
      "50000/50000 [==============================] - 7s 139us/step - loss: 0.3388 - acc: 0.8781 - val_loss: 2.9637 - val_acc: 0.5000\n",
      "Epoch 90/100\n",
      "50000/50000 [==============================] - 7s 133us/step - loss: 0.3333 - acc: 0.8806 - val_loss: 2.9902 - val_acc: 0.4947\n",
      "Epoch 91/100\n",
      "50000/50000 [==============================] - 7s 134us/step - loss: 0.3347 - acc: 0.8803 - val_loss: 3.0051 - val_acc: 0.4983\n",
      "Epoch 92/100\n",
      "50000/50000 [==============================] - 7s 137us/step - loss: 0.3053 - acc: 0.8910 - val_loss: 3.0466 - val_acc: 0.4965\n",
      "Epoch 93/100\n",
      "50000/50000 [==============================] - 7s 137us/step - loss: 0.2899 - acc: 0.8953 - val_loss: 3.1584 - val_acc: 0.4947\n",
      "Epoch 94/100\n",
      "50000/50000 [==============================] - 7s 138us/step - loss: 0.3558 - acc: 0.8739 - val_loss: 3.0918 - val_acc: 0.4915\n",
      "Epoch 95/100\n",
      "50000/50000 [==============================] - 7s 138us/step - loss: 0.2946 - acc: 0.8952 - val_loss: 3.3319 - val_acc: 0.4845\n",
      "Epoch 96/100\n",
      "50000/50000 [==============================] - 7s 139us/step - loss: 0.3281 - acc: 0.8817 - val_loss: 3.2044 - val_acc: 0.4875\n",
      "Epoch 97/100\n",
      "50000/50000 [==============================] - 7s 141us/step - loss: 0.2782 - acc: 0.8995 - val_loss: 3.2039 - val_acc: 0.4973\n",
      "Epoch 98/100\n",
      "50000/50000 [==============================] - 7s 144us/step - loss: 0.3038 - acc: 0.8902 - val_loss: 3.2730 - val_acc: 0.4881\n",
      "Epoch 99/100\n",
      "50000/50000 [==============================] - 7s 140us/step - loss: 0.3366 - acc: 0.8803 - val_loss: 3.2497 - val_acc: 0.4903\n",
      "Epoch 100/100\n",
      "50000/50000 [==============================] - 7s 140us/step - loss: 0.2881 - acc: 0.8959 - val_loss: 3.2752 - val_acc: 0.4903\n"
     ]
    },
    {
     "data": {
      "text/plain": [
       "<keras.callbacks.History at 0x189bba195f8>"
      ]
     },
     "execution_count": 13,
     "metadata": {},
     "output_type": "execute_result"
    }
   ],
   "source": [
    "model.fit(x_train, y_train, \n",
    "          epochs=EPOCHS, \n",
    "          batch_size=BATCH_SIZE, \n",
    "          validation_data=(x_test, y_test), \n",
    "          shuffle=True)"
   ]
  },
  {
   "cell_type": "code",
   "execution_count": 15,
   "metadata": {},
   "outputs": [
    {
     "data": {
      "image/png": "[encoded data removed]",
      "text/plain": [
       "<Figure size 432x288 with 1 Axes>"
      ]
     },
     "metadata": {
      "needs_background": "light"
     },
     "output_type": "display_data"
    },
    {
     "data": {
      "image/png": "[encoded data removed]",
      "text/plain": [
       "<Figure size 432x288 with 1 Axes>"
      ]
     },
     "metadata": {
      "needs_background": "light"
     },
     "output_type": "display_data"
    }
   ],
   "source": [
    "import matplotlib.pyplot as plt\n",
    "\n",
    "\n",
    "train_loss = model.history.history[\"loss\"]\n",
    "valid_loss = model.history.history[\"val_loss\"]\n",
    "\n",
    "train_acc = model.history.history[\"acc\"]\n",
    "valid_acc = model.history.history[\"val_acc\"]\n",
    "\n",
    "plt.plot(range(len(train_loss)), train_loss, label=\"train loss\")\n",
    "plt.plot(range(len(valid_loss)), valid_loss, label=\"valid loss\")\n",
    "plt.legend()\n",
    "plt.title(\"Loss\")\n",
    "plt.show()\n",
    "\n",
    "plt.plot(range(len(train_acc)), train_acc, label=\"train accuracy\")\n",
    "plt.plot(range(len(valid_acc)), valid_acc, label=\"valid accuracy\")\n",
    "plt.legend()\n",
    "plt.title(\"Accuracy\")\n",
    "plt.show()"
   ]
  },
  {
   "cell_type": "code",
   "execution_count": null,
   "metadata": {},
   "outputs": [],
   "source": []
  }
 ],
 "metadata": {
  "kernelspec": {
   "display_name": "Python 3",
   "language": "python",
   "name": "python3"
  },
  "language_info": {
   "codemirror_mode": {
    "name": "ipython",
    "version": 3
   },
   "file_extension": ".py",
   "mimetype": "text/x-python",
   "name": "python",
   "nbconvert_exporter": "python",
   "pygments_lexer": "ipython3",
   "version": "3.6.8"
  }
 },
 "nbformat": 4,
 "nbformat_minor": 2
}
