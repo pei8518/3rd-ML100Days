{
 "cells": [
  {
   "cell_type": "markdown",
   "metadata": {},
   "source": [
    "## [作業重點]\n",
    "清楚了解 L1, L2 的意義與差異為何，並了解 LASSO 與 Ridge 之間的差異與使用情境"
   ]
  },
  {
   "cell_type": "markdown",
   "metadata": {},
   "source": [
    "## 作業"
   ]
  },
  {
   "cell_type": "markdown",
   "metadata": {},
   "source": [
    "請閱讀相關文獻，並回答下列問題\n",
    "\n",
    "[脊回歸 (Ridge Regression)](https://blog.csdn.net/daunxx/article/details/51578787)\n",
    "[Linear, Ridge, Lasso Regression 本質區別](https://www.zhihu.com/question/38121173)\n",
    "\n",
    "1. LASSO 回歸可以被用來作為 Feature selection 的工具，請了解 LASSO 模型為什麼可用來作 Feature selection\n",
    "   * 其實LASSO的想法非常簡單，就是將正規項改為   \\sum_{j=0}^k |\\beta_j|，因此LASSO其實是在解以下的最佳化問題：![](https://s0.wp.com/latex.php?latex=min_%7B%5Cbeta_0%2C%5Ccdots%2C%5Cbeta_k%7D+%5Csum_%7Bi%3D1%7D%5En%5Cleft%5BY_i+-+%5Cleft%28+%5Cbeta_0+%2B+%5Cbeta_1+X_%7Bi1%7D%2B%5Ccdots+%2B+%5Cbeta_kX_%7Bik%7D%5Cright%29%5Cright%5D%5E2+%C2%A0%2B+%5Cgamma+%C2%A0%5Csum_%7Bj%3D0%7D%5Ek+%7C%5Cbeta_j%7C&bg=ffffff&fg=000&s=0 \"ridge regression的參數估計問題\")\n",
    "   改動了正規項，LASSO卻能夠得到一項非常了不起的結果─稀疏表達 (sparse representation)，Ridge regression 會估計出許多靠近0但非0的係數，LASSO的正規化可以強制使得不重要的解釋變數逼近於0，任何回歸係數不為零的特徵都會被LASSO算法「選中」，因此也達到了變數選擇的功能。因此，當遇到資料變數非常多時，Lasso模型是可以幫你識別並挑選出有最強（也最一致）訊號的變數。\n",
    "2. 當自變數 (X) 存在高度共線性時，Ridge Regression 可以處理這樣的問題嗎?\n",
    "   * 可以。當資料有共線性的問題時，Ridge允許有偏估計量(br)。雖然估計量有偏誤，可是br的變異比較小，因此落在真實估計量(β)的機率，並不會大於不偏估計量(b)。\n",
    "\n",
    "##### 參考來源:\n",
    "* (1) [多元迴歸分析的變數選擇](https://taweihuang.hpd.io/2016/09/12/%E8%AE%80%E8%80%85%E6%8F%90%E5%95%8F%EF%BC%9A%E5%A4%9A%E5%85%83%E8%BF%B4%E6%AD%B8%E5%88%86%E6%9E%90%E7%9A%84%E8%AE%8A%E6%95%B8%E9%81%B8%E6%93%87/)\n",
    "* (2) [Lasso 和 Ridge 正規化回歸](https://ithelp.ithome.com.tw/articles/10227654)\n",
    "* (3) [R筆記 – (18) Subsets & Shrinkage Regression (Stepwise & Lasso)](https://ithelp.ithome.com.tw/articles/10227654)\n",
    "* (4) [Linear least squares, Lasso,ridge regression有何本质区别？](https://www.zhihu.com/question/38121173)"
   ]
  },
  {
   "cell_type": "code",
   "execution_count": null,
   "metadata": {},
   "outputs": [],
   "source": []
  }
 ],
 "metadata": {
  "kernelspec": {
   "display_name": "Python 3",
   "language": "python",
   "name": "python3"
  },
  "language_info": {
   "codemirror_mode": {
    "name": "ipython",
    "version": 3
   },
   "file_extension": ".py",
   "mimetype": "text/x-python",
   "name": "python",
   "nbconvert_exporter": "python",
   "pygments_lexer": "ipython3",
   "version": "3.6.8"
  }
 },
 "nbformat": 4,
 "nbformat_minor": 2
}
