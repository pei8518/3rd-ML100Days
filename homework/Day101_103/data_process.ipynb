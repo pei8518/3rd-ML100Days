{
 "cells": [
  {
   "cell_type": "code",
   "execution_count": 30,
   "metadata": {},
   "outputs": [],
   "source": [
    "import os\n",
    "import random\n",
    "import shutil\n",
    "import math\n",
    "import sys\n",
    "import time\n",
    "from datetime import datetime, timedelta"
   ]
  },
  {
   "cell_type": "code",
   "execution_count": 31,
   "metadata": {},
   "outputs": [],
   "source": [
    "dirs = ['daisy','dandelion','rose','sunflower','tulip']\n",
    "\n",
    "TRAIN_PATH  = 'C:/pjwu/homework/ml100-03-final/image_data/train'\n",
    "\n",
    "train_val_ratio = 0.3 # 70/30/ Data Split\n",
    "train_dir = 'C:/pjwu/homework/ml100-03-final/image_data/data/train/'\n",
    "val_dir = 'C:/pjwu/homework/ml100-03-final/image_data/data/val/'\n",
    "\n",
    "#Remove Existing Folders if they exist\n",
    "for folder in [train_dir, val_dir]:\n",
    "    if os.path.exists(folder) and os.path.isdir(folder):\n",
    "        shutil.rmtree(folder)\n",
    "\n",
    "#Remake Category Folders in both Train and Test Folders\n",
    "for category in dirs:\n",
    "    # os.makedirs(test_folder + category)\n",
    "    os.makedirs(train_dir + category)\n",
    "    os.makedirs(val_dir + category)"
   ]
  },
  {
   "cell_type": "code",
   "execution_count": 32,
   "metadata": {},
   "outputs": [
    {
     "name": "stdout",
     "output_type": "stream",
     "text": [
      "Moving 350 train images to category folder daisy\n",
      "Moving 150 validation images to category folder daisy\n",
      "Moving 480 train images to category folder dandelion\n",
      "Moving 206 validation images to category folder dandelion\n",
      "Moving 360 train images to category folder rose\n",
      "Moving 154 validation images to category folder rose\n",
      "Moving 341 train images to category folder sunflower\n",
      "Moving 146 validation images to category folder sunflower\n",
      "Moving 443 train images to category folder tulip\n",
      "Moving 189 validation images to category folder tulip\n",
      "Done, Time: 10:32:20 ==================== ===============]\n"
     ]
    }
   ],
   "source": [
    "#切分訓練資料與驗證資料\n",
    "for category in dirs:\n",
    "    file_list = os.listdir(TRAIN_PATH + '/' + category)\n",
    "    #設定train與valid data的樣本數\n",
    "    train_num = math.floor(len(file_list) * (1 - train_val_ratio))\n",
    "    val_num = math.floor(len(file_list) * train_val_ratio)\n",
    "    train_list = file_list[:train_num]\n",
    "    val_list = file_list[train_num:train_num + val_num]\n",
    "    #複製檔案\n",
    "    for file in train_list:\n",
    "        shutil.copy(TRAIN_PATH + '/' + category + '/' + file, train_dir + '/' + category + '/' + file)\n",
    "    print('Moving %s train images to category folder %s' % (len(train_list), category))  \n",
    "    \n",
    "    for file in val_list:\n",
    "        shutil.copy(TRAIN_PATH + '/' + category + '/' + file, val_dir + '/' + category + '/' + file)\n",
    "    print('Moving %s validation images to category folder %s' % (len(val_list), category))      \n",
    "print(\"Done, Time:\" , datetime.now().strftime(\"%H:%M:%S\"), '='*20,'===============]')  "
   ]
  },
  {
   "cell_type": "code",
   "execution_count": null,
   "metadata": {},
   "outputs": [],
   "source": [
    "# #print (os.listdir(DATASET_PATH))\n",
    "# for dir in dirs:\n",
    "#     temp_vaild_path = VALID_PATH+dir\n",
    "#     temp_train_path = TRAIN_PATH+dir\n",
    "#     os.mkdir(temp_vaild_path)\n",
    "#     train_files = \n",
    "#     (os.listdir(temp_train_path),100)\n",
    "#     for file in train_files:\n",
    "#         shutil.move(temp_train_path+'/'+file, temp_vaild_path+'/'+file)"
   ]
  }
 ],
 "metadata": {
  "kernelspec": {
   "display_name": "Python 3",
   "language": "python",
   "name": "python3"
  },
  "language_info": {
   "codemirror_mode": {
    "name": "ipython",
    "version": 3
   },
   "file_extension": ".py",
   "mimetype": "text/x-python",
   "name": "python",
   "nbconvert_exporter": "python",
   "pygments_lexer": "ipython3",
   "version": "3.6.8"
  }
 },
 "nbformat": 4,
 "nbformat_minor": 2
}
