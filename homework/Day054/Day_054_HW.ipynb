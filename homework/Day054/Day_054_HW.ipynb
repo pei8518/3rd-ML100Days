{
 "cells": [
  {
   "cell_type": "markdown",
   "metadata": {},
   "source": [
    "# 作業\n",
    "* 試著想想看, 非監督學習是否有可能使用評價函數 (Metric) 來鑑別好壞呢?  \n",
    "(Hint : 可以分為 \"有目標值\" 與 \"無目標值\" 兩個方向思考)"
   ]
  },
  {
   "cell_type": "markdown",
   "metadata": {
    "collapsed": true
   },
   "source": [
    "* 當資料內容只有特徵值，沒有真實標籤(目標值)，沒有一個確定的outcome時，我們可以用非監督學習\n",
    "* 透過非監督學習，把具有相近特徵的數據歸為一個類別，稱為聚類(物以類聚，人以群分)\n",
    "* 在許多真實研究中，我們不一定能取得有標記的資料，因此藉由非監督式可以幫助我們了解資料的模式，並做適當的分類\n",
    "* 而進行非監督式的演算法主要方法為:k-means\n",
    "* Kmeans性能評估:以輪廓係數做為評估值\n",
    "\n",
    "* 參考資料：\n",
    "   1. http://www.taroballz.com/2018/07/19/ML_unsupervise_Kmeans/  \n",
    "   2. https://blogs.nvidia.com.tw/2018/09/supervised-unsupervised-learning/\n",
    "\n"
   ]
  },
  {
   "cell_type": "code",
   "execution_count": null,
   "metadata": {},
   "outputs": [],
   "source": []
  }
 ],
 "metadata": {
  "kernelspec": {
   "display_name": "Python 3",
   "language": "python",
   "name": "python3"
  },
  "language_info": {
   "codemirror_mode": {
    "name": "ipython",
    "version": 3
   },
   "file_extension": ".py",
   "mimetype": "text/x-python",
   "name": "python",
   "nbconvert_exporter": "python",
   "pygments_lexer": "ipython3",
   "version": "3.6.8"
  }
 },
 "nbformat": 4,
 "nbformat_minor": 1
}
