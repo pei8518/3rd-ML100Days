{
 "cells": [
  {
   "cell_type": "markdown",
   "metadata": {},
   "source": [
    "## [作業重點]\n",
    "了解線性回歸的模型發展歷程，並了解優勢與劣勢，以及其使用情境"
   ]
  },
  {
   "cell_type": "markdown",
   "metadata": {},
   "source": [
    "## 作業"
   ]
  },
  {
   "cell_type": "markdown",
   "metadata": {},
   "source": [
    "請閱讀以下相關文獻，並回答以下問題\n",
    "\n",
    "[Linear Regression 詳細介紹](https://brohrer.mcknote.com/zh-Hant/how_machine_learning_works/how_linear_regression_works.html)\n",
    "\n",
    "[Logistics Regression 詳細介紹](https://medium.com/@yehjames/%E8%B3%87%E6%96%99%E5%88%86%E6%9E%90-%E6%A9%9F%E5%99%A8%E5%AD%B8%E7%BF%92-%E7%AC%AC3-3%E8%AC%9B-%E7%B7%9A%E6%80%A7%E5%88%86%E9%A1%9E-%E9%82%8F%E8%BC%AF%E6%96%AF%E5%9B%9E%E6%AD%B8-logistic-regression-%E4%BB%8B%E7%B4%B9-a1a5f47017e5)\n"
   ]
  },
  {
   "cell_type": "markdown",
   "metadata": {},
   "source": [
    "1. 線性回歸模型能夠準確預測非線性關係的資料集嗎?\n",
    " * 線性回歸面對非線性資料時的預測不如其它模型來的準確，當遇到極端值時就容易受到影響。當資料是非線性關係時，還是選擇非線性模型來進行分析會比較有利，準確度也較高。\n",
    "2. 回歸模型是否對資料分布有基本假設?\n",
    " * 在統計學上，要使用回歸模型有其前提限制:\n",
    "   * Regression的誤差項需符合三大前提:\n",
    "         (1)常態性(Normality)\n",
    "         (2)獨立性(Independency)\n",
    "         (3)變異數同質性(Constant Variance)\n",
    "   * Logistic regression assumption:\n",
    "         (1)APPROPRIATE OUTCOME STRUCTURE\n",
    "         (2)OBSERVATION INDEPENDENCE\n",
    "         (3)THE ABSENCE OF MULTICOLLINEARITY\n",
    "         (4)LINEARITY OF INDEPENDENT VARIABLES AND LOG ODDS\n",
    "         (5)LARGE SAMPLE SIZE\n",
    "        * 參考來源: [https://www.lexjansen.com/wuss/2018/130_Final_Paper_PDF.pdf]\n"
   ]
  },
  {
   "cell_type": "code",
   "execution_count": null,
   "metadata": {},
   "outputs": [],
   "source": []
  }
 ],
 "metadata": {
  "kernelspec": {
   "display_name": "Python 3",
   "language": "python",
   "name": "python3"
  },
  "language_info": {
   "codemirror_mode": {
    "name": "ipython",
    "version": 3
   },
   "file_extension": ".py",
   "mimetype": "text/x-python",
   "name": "python",
   "nbconvert_exporter": "python",
   "pygments_lexer": "ipython3",
   "version": "3.6.8"
  }
 },
 "nbformat": 4,
 "nbformat_minor": 2
}
